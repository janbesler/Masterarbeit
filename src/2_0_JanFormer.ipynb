{
 "cells": [
  {
   "cell_type": "markdown",
   "metadata": {},
   "source": [
    "# Libraries"
   ]
  },
  {
   "cell_type": "code",
   "execution_count": null,
   "metadata": {},
   "outputs": [],
   "source": [
    "# standard\n",
    "import pandas as pd\n",
    "import numpy as np\n",
    "from tqdm import tqdm\n",
    "import matplotlib.pyplot as plt\n",
    "import seaborn as sns\n",
    "\n",
    "# reading data\n",
    "import os\n",
    "import json\n",
    "from collections import defaultdict\n",
    "\n",
    "# pre-processing\n",
    "import holidays\n",
    "\n",
    "# machine learning\n",
    "from sklearn.model_selection import train_test_split\n",
    "from sklearn.linear_model import LinearRegression\n",
    "from sklearn.metrics import mean_squared_error, mean_absolute_error\n",
    "\n",
    "# transformers\n",
    "from transformers import InformerForConditionalGeneration, InformerTokenizer"
   ]
  },
  {
   "cell_type": "markdown",
   "metadata": {},
   "source": [
    "# Huggingface Transformers"
   ]
  },
  {
   "cell_type": "markdown",
   "metadata": {},
   "source": [
    "### Informer Model"
   ]
  },
  {
   "cell_type": "code",
   "execution_count": null,
   "metadata": {},
   "outputs": [],
   "source": [
    "def use_informer_for_time_series(data, num_lags, forecast_length, model_name=\"some_model\"):\n",
    "    # Ensure data is shaped according to [num_lags]\n",
    "    # Your reshaping logic here\n",
    "    \n",
    "    # Initialize the tokenizer and model\n",
    "    tokenizer = InformerTokenizer.from_pretrained(model_name)\n",
    "    model = InformerForConditionalGeneration.from_pretrained(model_name)\n",
    "    \n",
    "    # Tokenize and format the sequence\n",
    "    inputs = tokenizer([data], return_tensors=\"pt\", padding=True, truncation=True)\n",
    "    \n",
    "    # Generate forecast\n",
    "    forecast_ids = model.generate(inputs[\"input_ids\"], num_return_sequences=forecast_length)\n",
    "    \n",
    "    # Post-process the generated IDs to forecasted values\n",
    "    # Your post-processing logic here\n",
    "    \n",
    "    return forecasted_values\n"
   ]
  }
 ],
 "metadata": {
  "language_info": {
   "name": "python"
  },
  "orig_nbformat": 4
 },
 "nbformat": 4,
 "nbformat_minor": 2
}
