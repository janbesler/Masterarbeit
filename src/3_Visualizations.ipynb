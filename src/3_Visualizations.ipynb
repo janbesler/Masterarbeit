{
 "cells": [
  {
   "cell_type": "markdown",
   "metadata": {},
   "source": [
    "# Libraries"
   ]
  },
  {
   "cell_type": "code",
   "execution_count": 17,
   "metadata": {},
   "outputs": [],
   "source": [
    "# standard\n",
    "import pandas as pd\n",
    "import numpy as np\n",
    "from tqdm import tqdm\n",
    "import time\n",
    "\n",
    "# reading data\n",
    "from os.path import basename\n",
    "import json\n",
    "from collections import defaultdict\n",
    "import glob\n",
    "import re\n",
    "\n",
    "# visuals\n",
    "import matplotlib.pyplot as plt\n",
    "import seaborn as sns"
   ]
  },
  {
   "cell_type": "markdown",
   "metadata": {},
   "source": [
    "# Read in Results"
   ]
  },
  {
   "cell_type": "code",
   "execution_count": 18,
   "metadata": {},
   "outputs": [
    {
     "name": "stdout",
     "output_type": "stream",
     "text": [
      "Type: SystemUsage \n",
      " Model: Linear, Embedding Length: 64, Loss Function: CRPS\n",
      "Type: SystemUsage \n",
      " Model: eFormer, Embedding Length: 64, Loss Function: CRPS\n",
      "Type: epoch \n",
      " Model: Linear, Embedding Length: 64, Loss Function: CRPS\n",
      "Type: epoch \n",
      " Model: eFormer, Embedding Length: 64, Loss Function: CRPS\n",
      "Type: eval \n",
      " Model: Linear, Embedding Length: 64, Loss Function: CRPS\n",
      "Type: eval \n",
      " Model: eFormer, Embedding Length: 64, Loss Function: CRPS\n"
     ]
    }
   ],
   "source": [
    "# Define the pattern to match the filenames\n",
    "pattern = \"df_(.*?)_(.*?)_emb(.*?)_(.*?).csv\"\n",
    "\n",
    "# Use glob to find all csv files matching the pattern\n",
    "files = glob.glob('../data/Results/df_*_*_emb*_*.csv')\n",
    "\n",
    "# Initialize a dictionary to hold the data frames\n",
    "data_frames = {}\n",
    "\n",
    "for file in files:\n",
    "    # Extract the basename of the file for regex matching\n",
    "    file_basename = basename(file)\n",
    "    \n",
    "    # Extract model name, embedding length, and loss function using regex\n",
    "    match = re.match(pattern, file_basename)\n",
    "    if match:\n",
    "        result_type = match.group(1)\n",
    "        model_name = match.group(2)\n",
    "        embedding_length = match.group(3)\n",
    "        loss_function = match.group(4)\n",
    "\n",
    "        # Read the csv file into a pandas DataFrame\n",
    "        df = pd.read_csv(file)\n",
    "\n",
    "        # Store the DataFrame in the dictionary with a tuple key for easy sorting\n",
    "        data_frames[(result_type, model_name, int(embedding_length), loss_function)] = df\n",
    "    else:\n",
    "        # If no match, print the filename for review\n",
    "        print(f\"No match for file: {file_basename}\")\n",
    "\n",
    "# Now, you can sort the data frames based on the tuple keys\n",
    "sorted_keys = sorted(data_frames.keys(), key=lambda x: (x[0], x[1], x[2], x[3]))\n",
    "\n",
    "# Accessing a sorted DataFrame\n",
    "for key in sorted_keys:\n",
    "    print(f\"Type: {key[0]} \\n Model: {key[1]}, Embedding Length: {key[2]}, Loss Function: {key[3]}\")"
   ]
  },
  {
   "cell_type": "code",
   "execution_count": 20,
   "metadata": {},
   "outputs": [
    {
     "data": {
      "text/plain": [
       "dict_keys([('epoch', 'eFormer', 64, 'CRPS'), ('eval', 'Linear', 64, 'CRPS'), ('eval', 'eFormer', 64, 'CRPS'), ('SystemUsage', 'eFormer', 64, 'CRPS'), ('epoch', 'Linear', 64, 'CRPS'), ('SystemUsage', 'Linear', 64, 'CRPS')])"
      ]
     },
     "execution_count": 20,
     "metadata": {},
     "output_type": "execute_result"
    }
   ],
   "source": [
    "data_frames.keys()"
   ]
  },
  {
   "cell_type": "code",
   "execution_count": 25,
   "metadata": {},
   "outputs": [
    {
     "data": {
      "text/html": [
       "<div>\n",
       "<style scoped>\n",
       "    .dataframe tbody tr th:only-of-type {\n",
       "        vertical-align: middle;\n",
       "    }\n",
       "\n",
       "    .dataframe tbody tr th {\n",
       "        vertical-align: top;\n",
       "    }\n",
       "\n",
       "    .dataframe thead th {\n",
       "        text-align: right;\n",
       "    }\n",
       "</style>\n",
       "<table border=\"1\" class=\"dataframe\">\n",
       "  <thead>\n",
       "    <tr style=\"text-align: right;\">\n",
       "      <th></th>\n",
       "      <th>Unnamed: 0</th>\n",
       "      <th>CPU Usage</th>\n",
       "      <th>Memory Usage (GB)</th>\n",
       "      <th>GPU Usage (GB)</th>\n",
       "    </tr>\n",
       "  </thead>\n",
       "  <tbody>\n",
       "    <tr>\n",
       "      <th>0</th>\n",
       "      <td>0</td>\n",
       "      <td>16.8</td>\n",
       "      <td>7.4563</td>\n",
       "      <td>0.3223</td>\n",
       "    </tr>\n",
       "    <tr>\n",
       "      <th>1</th>\n",
       "      <td>1</td>\n",
       "      <td>14.9</td>\n",
       "      <td>8.0805</td>\n",
       "      <td>0.4180</td>\n",
       "    </tr>\n",
       "    <tr>\n",
       "      <th>2</th>\n",
       "      <td>2</td>\n",
       "      <td>13.2</td>\n",
       "      <td>8.0784</td>\n",
       "      <td>0.4180</td>\n",
       "    </tr>\n",
       "    <tr>\n",
       "      <th>3</th>\n",
       "      <td>3</td>\n",
       "      <td>16.1</td>\n",
       "      <td>8.1360</td>\n",
       "      <td>0.4180</td>\n",
       "    </tr>\n",
       "    <tr>\n",
       "      <th>4</th>\n",
       "      <td>4</td>\n",
       "      <td>15.2</td>\n",
       "      <td>8.1146</td>\n",
       "      <td>0.4180</td>\n",
       "    </tr>\n",
       "  </tbody>\n",
       "</table>\n",
       "</div>"
      ],
      "text/plain": [
       "   Unnamed: 0  CPU Usage  Memory Usage (GB)  GPU Usage (GB)\n",
       "0           0       16.8             7.4563          0.3223\n",
       "1           1       14.9             8.0805          0.4180\n",
       "2           2       13.2             8.0784          0.4180\n",
       "3           3       16.1             8.1360          0.4180\n",
       "4           4       15.2             8.1146          0.4180"
      ]
     },
     "execution_count": 25,
     "metadata": {},
     "output_type": "execute_result"
    }
   ],
   "source": [
    "data_frames['SystemUsage', 'eFormer', 64, 'CRPS'].head()"
   ]
  }
 ],
 "metadata": {
  "kernelspec": {
   "display_name": "Python 3",
   "language": "python",
   "name": "python3"
  },
  "language_info": {
   "codemirror_mode": {
    "name": "ipython",
    "version": 3
   },
   "file_extension": ".py",
   "mimetype": "text/x-python",
   "name": "python",
   "nbconvert_exporter": "python",
   "pygments_lexer": "ipython3",
   "version": "3.11.8"
  }
 },
 "nbformat": 4,
 "nbformat_minor": 2
}
