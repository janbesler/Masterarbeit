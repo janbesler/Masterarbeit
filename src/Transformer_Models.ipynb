{
 "cells": [
  {
   "cell_type": "code",
   "execution_count": 9,
   "metadata": {},
   "outputs": [],
   "source": [
    "# standard\n",
    "import pandas as pd\n",
    "import numpy as np\n",
    "from tqdm import tqdm\n",
    "import math\n",
    "from math import sqrt\n",
    "import time\n",
    "\n",
    "# reading data\n",
    "import os\n",
    "import json\n",
    "from collections import defaultdict\n",
    "\n",
    "# machine learning\n",
    "from sklearn.model_selection import train_test_split\n",
    "from sklearn.linear_model import LinearRegression\n",
    "from sklearn.metrics import mean_squared_error, mean_absolute_error\n",
    "import torch\n",
    "import torch.nn as nn\n",
    "import torch.nn.functional as F\n",
    "from torch.fft import rfft, irfft, fftn, ifftn\n",
    "from torch.utils.data import Dataset, DataLoader\n",
    "from torch.optim import AdamW\n",
    "\n",
    "# visuals\n",
    "import matplotlib.pyplot as plt\n",
    "import seaborn as sns\n",
    "\n",
    "# transformer Benchmarks\n",
    "from Benchmarks.models.Informer import Model as Informer \n",
    "from Benchmarks.models.Autoformer import Model as Autoformer\n",
    "from Benchmarks.models.Transformer import Model as VanillaTransformer\n",
    "\n",
    "%store -r Kelmarsh_df Penmanshiel_df"
   ]
  },
  {
   "cell_type": "markdown",
   "metadata": {},
   "source": [
    "# Args Dictionary\n",
    "\n",
    "required for running all benchmark models"
   ]
  },
  {
   "cell_type": "code",
   "execution_count": null,
   "metadata": {},
   "outputs": [],
   "source": [
    "hyperparameters = {}"
   ]
  },
  {
   "cell_type": "markdown",
   "metadata": {},
   "source": [
    "# CRPS Loss Function"
   ]
  },
  {
   "cell_type": "code",
   "execution_count": 11,
   "metadata": {},
   "outputs": [],
   "source": [
    "class CRPS(nn.Module):\n",
    "    def __init__(self, custom_parameters):\n",
    "        super(CRPS, self).__init__()\n",
    "        self.custom_parameters = custom_parameters\n",
    "\n",
    "    def forward(self, forecast, observations, weights):\n",
    "        \"\"\"\n",
    "        Args:\n",
    "        forecast (torch.Tensor): Forecasts from the model (ensemble) with shape [1, seq_len].\n",
    "        observations (torch.Tensor): Observed values with shape [seq_len].\n",
    "        weights (torch.Tensor): Corresponding weights for the CRPS scores, derived from sparse attention, with shape [1, seq_len, seq_len].\n",
    "\n",
    "        Returns:\n",
    "        float: Weighted mean of the CRPS for all forecasts.\n",
    "        \"\"\"\n",
    "        forecast = forecast.squeeze(0)  # Adjusting forecast shape: [64]\n",
    "        weights = weights.mean(dim=-1).squeeze(0)  # Assuming averaging is the method to obtain weights: [64]\n",
    "    \n",
    "        # Sorting the forecasts\n",
    "        sorted_forecast, _ = torch.sort(forecast, dim=0)\n",
    "        observations = observations.unsqueeze(0)  # [1, 64] for broadcasting\n",
    "\n",
    "        # Cumulative sum of sorted forecasts\n",
    "        cumsum_forecast = torch.cumsum(sorted_forecast, dim=0) / forecast.size(0)\n",
    "\n",
    "        # Calculating CRPS\n",
    "        indicator = (sorted_forecast > observations).float()\n",
    "        differences = (cumsum_forecast - indicator) ** 2\n",
    "        weighted_differences = differences * weights  # Apply weights to the differences\n",
    "        crps = weighted_differences.mean()  # Taking mean across all weighted differences\n",
    "\n",
    "        return crps  # Returning as a Tensor for the backward pass"
   ]
  }
 ],
 "metadata": {
  "kernelspec": {
   "display_name": "Python 3",
   "language": "python",
   "name": "python3"
  },
  "language_info": {
   "codemirror_mode": {
    "name": "ipython",
    "version": 3
   },
   "file_extension": ".py",
   "mimetype": "text/x-python",
   "name": "python",
   "nbconvert_exporter": "python",
   "pygments_lexer": "ipython3",
   "version": "3.11.7"
  }
 },
 "nbformat": 4,
 "nbformat_minor": 2
}
