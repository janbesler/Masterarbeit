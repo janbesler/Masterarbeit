{
 "cells": [
  {
   "cell_type": "code",
   "execution_count": 8,
   "metadata": {},
   "outputs": [],
   "source": [
    "# libraries\n",
    "import pandas as pd\n",
    "import numpy as np\n",
    "import os\n",
    "from sklearn.linear_model import LinearRegression, Lasso\n",
    "from sklearn.model_selection import train_test_split\n",
    "from sklearn import linear_model\n",
    "from sklearn.metrics import mean_squared_error, mean_absolute_error\n",
    "from tqdm import tqdm\n",
    "\n",
    "%store -r Kelmarsh_df Penmanshiel_df"
   ]
  },
  {
   "cell_type": "code",
   "execution_count": 1,
   "metadata": {},
   "outputs": [],
   "source": [
    "def model_linear_data(data, dependent_var, independent_var, n_lags):\n",
    "\n",
    "    data[f\"{dependent_var}_lag_{n_lags}\"] = data[f'{dependent_var}'].shift(n_lags)\n",
    "    data = data.dropna()\n",
    "\n",
    "    # Prepare data for modeling\n",
    "    X = data[[f'{independent_var}', f\"{dependent_var}_lag_{n_lags}\"]]\n",
    "    y = data[f\"{dependent_var}\"]\n",
    "\n",
    "    # Train-test split (80:20)\n",
    "    X_train, X_test, y_train, y_test = train_test_split(X, y, test_size=0.2, random_state=42)\n",
    "\n",
    "    return X_train, X_test, y_train, y_test"
   ]
  },
  {
   "cell_type": "code",
   "execution_count": 3,
   "metadata": {},
   "outputs": [],
   "source": [
    "def model_errors (results_df, model, y_true, y_pred):\n",
    "    def mean_absolute_percentage_error(y_true, y_pred):\n",
    "        y_true, y_pred = np.array(y_true), np.array(y_pred)\n",
    "        return np.mean(np.abs((y_true - y_pred) / y_true)) * 100\n",
    "\n",
    "    mse = mean_squared_error(y_true, y_pred)\n",
    "    rmse = np.sqrt(mse)\n",
    "    mae = mean_absolute_error(y_true, y_pred)\n",
    "    mape = mean_absolute_percentage_error(y_true, y_pred)\n",
    "\n",
    "    results_df.loc[f'{model}', 'MSE'] = '{:.6f}'.format(mse)\n",
    "    results_df.loc[f'{model}', 'RMSE'] = '{:.6f}'.format(rmse)\n",
    "    results_df.loc[f'{model}', 'MAE'] = '{:.6f}'.format(mae)\n",
    "    results_df.loc[f'{model}', 'MAPE'] = '{:.6f}'.format(mape)\n",
    "\n",
    "    return results_df"
   ]
  },
  {
   "cell_type": "code",
   "execution_count": 4,
   "metadata": {},
   "outputs": [],
   "source": [
    "def model_linear(X_train, y_train, X_test):\n",
    "    # make linear prediction\n",
    "    linear_reg = LinearRegression()\n",
    "    linear_reg.fit(X_train, y_train)\n",
    "    y_pred_linear = linear_reg.predict(X_test)\n",
    "\n",
    "    return y_pred_linear"
   ]
  },
  {
   "cell_type": "code",
   "execution_count": 5,
   "metadata": {},
   "outputs": [],
   "source": [
    "def final_model(data, demand, independent_var, n_lags):\n",
    "    # create results df\n",
    "    results_df = pd.DataFrame(\n",
    "        index=['linear regression'],\n",
    "        columns=['MSE', 'RMSE', 'MAE', 'MAPE']\n",
    "        )\n",
    "\n",
    "    # preprocess data\n",
    "    linear_x_train, linear_x_test, linear_y_train, linear_y_test = model_linear_data(data, demand, independent_var, n_lags)\n",
    "\n",
    "    # predictions\n",
    "    linear_pred = model_linear(linear_x_train, linear_y_train, linear_x_test)\n",
    "\n",
    "    # errors\n",
    "    model_errors(results_df, 'linear regression', linear_y_test, linear_pred)\n",
    "\n",
    "    return results_df"
   ]
  },
  {
   "cell_type": "code",
   "execution_count": 9,
   "metadata": {},
   "outputs": [
    {
     "name": "stderr",
     "output_type": "stream",
     "text": [
      "/tmp/ipykernel_1808/3599282347.py:4: RuntimeWarning: divide by zero encountered in divide\n",
      "  return np.mean(np.abs((y_true - y_pred) / y_true)) * 100\n"
     ]
    },
    {
     "data": {
      "text/html": [
       "<div>\n",
       "<style scoped>\n",
       "    .dataframe tbody tr th:only-of-type {\n",
       "        vertical-align: middle;\n",
       "    }\n",
       "\n",
       "    .dataframe tbody tr th {\n",
       "        vertical-align: top;\n",
       "    }\n",
       "\n",
       "    .dataframe thead th {\n",
       "        text-align: right;\n",
       "    }\n",
       "</style>\n",
       "<table border=\"1\" class=\"dataframe\">\n",
       "  <thead>\n",
       "    <tr style=\"text-align: right;\">\n",
       "      <th></th>\n",
       "      <th>MSE</th>\n",
       "      <th>RMSE</th>\n",
       "      <th>MAE</th>\n",
       "      <th>MAPE</th>\n",
       "    </tr>\n",
       "  </thead>\n",
       "  <tbody>\n",
       "    <tr>\n",
       "      <th>linear regression</th>\n",
       "      <td>4602.476194</td>\n",
       "      <td>67.841552</td>\n",
       "      <td>49.552208</td>\n",
       "      <td>inf</td>\n",
       "    </tr>\n",
       "  </tbody>\n",
       "</table>\n",
       "</div>"
      ],
      "text/plain": [
       "                           MSE       RMSE        MAE MAPE\n",
       "linear regression  4602.476194  67.841552  49.552208  inf"
      ]
     },
     "execution_count": 9,
     "metadata": {},
     "output_type": "execute_result"
    }
   ],
   "source": [
    "final_model(Kelmarsh_df['1'], 'Energy Export (kWh)', 'Long Term Wind (m/s)', 24)"
   ]
  }
 ],
 "metadata": {
  "kernelspec": {
   "display_name": "Python 3",
   "language": "python",
   "name": "python3"
  },
  "language_info": {
   "codemirror_mode": {
    "name": "ipython",
    "version": 3
   },
   "file_extension": ".py",
   "mimetype": "text/x-python",
   "name": "python",
   "nbconvert_exporter": "python",
   "pygments_lexer": "ipython3",
   "version": "3.11.5"
  },
  "orig_nbformat": 4
 },
 "nbformat": 4,
 "nbformat_minor": 2
}
