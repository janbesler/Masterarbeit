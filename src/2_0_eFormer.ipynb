{
 "cells": [
  {
   "cell_type": "markdown",
   "metadata": {},
   "source": [
    "# Libraries"
   ]
  },
  {
   "cell_type": "code",
   "execution_count": 1,
   "metadata": {},
   "outputs": [],
   "source": [
    "# standard\n",
    "import pandas as pd\n",
    "import numpy as np\n",
    "from tqdm import tqdm\n",
    "import math\n",
    "from math import sqrt\n",
    "\n",
    "# reading data\n",
    "import os\n",
    "import json\n",
    "from collections import defaultdict\n",
    "\n",
    "# machine learning\n",
    "from sklearn.model_selection import train_test_split\n",
    "from sklearn.linear_model import LinearRegression\n",
    "from sklearn.metrics import mean_squared_error, mean_absolute_error\n",
    "import torch\n",
    "import torch.nn as nn\n",
    "import torch.nn.functional as F\n",
    "from torch.fft import rfft, irfft, fftn, ifftn\n",
    "\n",
    "# visuals\n",
    "import matplotlib.pyplot as plt\n",
    "import seaborn as sns\n",
    "\n",
    "# eFormer\n",
    "from eFormer.embeddings import Encoding, ProbEncoding, PositionalEncoding\n",
    "from eFormer.sparse_attention import ProbSparseAttentionModule, DetSparseAttentionModule\n",
    "from eFormer.loss_function import crps\n",
    "\n",
    "%store -r Kelmarsh_df Penmanshiel_df"
   ]
  },
  {
   "cell_type": "markdown",
   "metadata": {},
   "source": [
    "# Architektur"
   ]
  },
  {
   "cell_type": "markdown",
   "metadata": {},
   "source": [
    "## Hyperparameters"
   ]
  },
  {
   "cell_type": "code",
   "execution_count": 2,
   "metadata": {},
   "outputs": [],
   "source": [
    "# set global parameters\n",
    "\n",
    "n_heads_global = 4\n",
    "probabilistic_model = True\n",
    "len_embedding_vector = 64"
   ]
  },
  {
   "cell_type": "markdown",
   "metadata": {},
   "source": [
    "## Embedding\n",
    "\n",
    "probabilistic embedding & positional encoding"
   ]
  },
  {
   "cell_type": "code",
   "execution_count": 3,
   "metadata": {},
   "outputs": [],
   "source": [
    "test_df = Kelmarsh_df['1'][['# Date and time', 'Energy Export (kWh)']][-1024:]\n",
    "\n",
    "# First, ensure that the column is in datetime format\n",
    "test_df['# Date and time'] = pd.to_datetime(test_df['# Date and time'])\n",
    "\n",
    "# Then convert it to timestamps\n",
    "test_df['Timestamp'] = test_df['# Date and time'].apply(lambda x: x.timestamp())\n",
    "\n",
    "# interpolate NaN values\n",
    "test_df = test_df.interpolate(method='linear')\n",
    "\n",
    "features_matrix = test_df[['Energy Export (kWh)', 'Timestamp']].values"
   ]
  },
  {
   "cell_type": "code",
   "execution_count": 4,
   "metadata": {},
   "outputs": [
    {
     "name": "stdout",
     "output_type": "stream",
     "text": [
      "Embedding shape: torch.Size([2, 1, 1024, 64])\n",
      "Stored 'embeddings' (Tensor)\n"
     ]
    }
   ],
   "source": [
    "# Forward pass through the model\n",
    "feature_tensor = torch.tensor(features_matrix, dtype=torch.float32).unsqueeze(0)\n",
    "# check for NaN values early\n",
    "if torch.isnan(feature_tensor).any():\n",
    "    raise ValueError('NaN values detected in Input')\n",
    "\n",
    "# decide which model to use\n",
    "if probabilistic_model == True:\n",
    "    encoding_model = ProbEncoding(in_features=feature_tensor.shape[-1], out_features=len_embedding_vector)\n",
    "else:\n",
    "    encoding_model = Encoding(in_features=feature_tensor.shape[-1], out_features=len_embedding_vector)\n",
    "\n",
    "# create embeddings\n",
    "embeddings = encoding_model(feature_tensor)\n",
    "\n",
    "# Check for NaN values after computation\n",
    "if torch.isnan(embeddings).any():\n",
    "    raise ValueError('NaN values detected in Embeddings')\n",
    "else:\n",
    "    print(f\"Embedding shape: {embeddings.shape}\")\n",
    "\n",
    "%store embeddings"
   ]
  },
  {
   "cell_type": "markdown",
   "metadata": {},
   "source": [
    "## Attention Mechanism"
   ]
  },
  {
   "cell_type": "code",
   "execution_count": 5,
   "metadata": {},
   "outputs": [
    {
     "name": "stdout",
     "output_type": "stream",
     "text": [
      "Sparse Attention shape: torch.Size([2, 1, 1024, 64])\n"
     ]
    }
   ],
   "source": [
    "# determine which model to use\n",
    "if probabilistic_model == True:\n",
    "    model = ProbSparseAttentionModule(\n",
    "        d_model=embeddings.shape[-1],\n",
    "        n_heads=n_heads_global,\n",
    "        prob_sparse_factor=5\n",
    "        )\n",
    "else:\n",
    "    model = DetSparseAttentionModule(\n",
    "        d_model=embeddings.shape[-1],\n",
    "        n_heads=n_heads_global,\n",
    "        prob_sparse_factor=5\n",
    "        )\n",
    "\n",
    "output = model(embeddings, embeddings, embeddings)\n",
    "\n",
    "# check for NaN values early\n",
    "if torch.isnan(output).any():\n",
    "    raise ValueError('NaN values detected in ProbSparse Output')\n",
    "else:\n",
    "    print(f\"Sparse Attention shape: {output.shape}\")"
   ]
  },
  {
   "cell_type": "code",
   "execution_count": 18,
   "metadata": {},
   "outputs": [],
   "source": [
    "class DetSparseDecoder(nn.Module):\n",
    "    def __init__(self, d_model, n_heads, encoder_output_dim, forecast_horizon=22, max_len=5000, d_ff=None, dropout=0.1, activation=\"relu\"):\n",
    "        super(DetSparseDecoder, self).__init__()\n",
    "        self.d_model = d_model\n",
    "        self.n_heads = n_heads\n",
    "        self.forecast_horizon = forecast_horizon\n",
    "        d_ff = d_ff or 4*d_model\n",
    "        self.dropout = nn.Dropout(dropout)\n",
    "        self.activation = F.relu if activation == \"relu\" else F.gelu\n",
    "\n",
    "        # Initialize PositionalEncoding\n",
    "        self.pos_encoder = PositionalEncoding(d_model, max_len)\n",
    "\n",
    "        # Sparse Attention Module for cross attention\n",
    "        self.cross_attention = DetSparseAttentionModule(d_model, n_heads, prob_sparse_factor=5)\n",
    "\n",
    "        # Feed-forward network components\n",
    "        self.conv1 = nn.Conv1d(in_channels=d_model, out_channels=d_ff, kernel_size=1)\n",
    "        self.conv2 = nn.Conv1d(in_channels=d_ff, out_channels=d_model, kernel_size=1)\n",
    "        \n",
    "        # Normalization layers\n",
    "        self.norm1 = nn.LayerNorm(d_model)\n",
    "        self.norm2 = nn.LayerNorm(d_model)\n",
    "\n",
    "        # Output layer\n",
    "        self.output_layer = nn.Linear(d_model, 1)\n",
    "\n",
    "    def forward(self, encoder_output, attn_mask=None):\n",
    "        # Generate positional encodings\n",
    "        dummy_input = torch.zeros(self.forecast_horizon, self.d_model).unsqueeze(0)\n",
    "        pos_encodings = self.pos_encoder(dummy_input)\n",
    "\n",
    "        # Apply encoder-decoder attention using positional encodings as queries and encoder outputs as keys and values\n",
    "        attn_output = self.cross_attention(pos_encodings, encoder_output, encoder_output, attn_mask)\n",
    "        attn_output = self.norm1(attn_output + self.dropout(attn_output))\n",
    "\n",
    "        # Feed-forward network\n",
    "        ff_output = attn_output.transpose(-1, 1)  # Prepare for conv1d\n",
    "        ff_output = self.dropout(self.activation(self.conv1(ff_output)))\n",
    "        ff_output = self.dropout(self.conv2(ff_output))\n",
    "        ff_output = ff_output.transpose(-1, 1)  # Back to original dims\n",
    "        ff_output = self.norm2(attn_output + self.dropout(ff_output))\n",
    "\n",
    "        # Generate forecasts based on the attention output\n",
    "        forecasts = self.output_layer(ff_output).squeeze(-1)\n",
    "        \n",
    "        return forecasts"
   ]
  },
  {
   "cell_type": "code",
   "execution_count": 19,
   "metadata": {},
   "outputs": [],
   "source": [
    "model = DetSparseDecoder(\n",
    "    d_model = output.shape[-1],\n",
    "    n_heads = n_heads_global,\n",
    "    forecast_horizon = 44,\n",
    "    encoder_output_dim = output[0].shape\n",
    ")\n",
    "\n",
    "forecasts = model(output[0])"
   ]
  },
  {
   "cell_type": "code",
   "execution_count": 23,
   "metadata": {},
   "outputs": [
    {
     "data": {
      "text/plain": [
       "tensor([[ 3.8558e-01, -2.9802e-01, -3.2474e-01, -8.9838e-01,  6.2037e-01,\n",
       "         -4.9907e-01,  2.9320e-01,  2.6009e-01,  6.7066e-01,  3.0919e-01,\n",
       "          2.8135e-01, -3.6599e-01, -4.6760e-01, -6.8683e-01, -1.9213e-01,\n",
       "         -1.4373e-01, -2.0843e-01, -4.7118e-01, -3.8964e-01, -6.6998e-01,\n",
       "         -3.3027e-01, -2.6969e-01,  1.0697e+00,  8.4031e-01,  8.0213e-01,\n",
       "          9.4044e-01,  1.4138e-01,  1.0577e+00,  4.4191e-01,  1.8215e-01,\n",
       "          1.2873e+00,  7.6183e-01,  4.8598e-01,  3.2828e-02, -7.7781e-02,\n",
       "          9.6700e-02, -1.0485e-01,  2.5754e-01,  4.3170e-01, -3.0529e-04,\n",
       "          1.6887e-01,  1.8087e-01,  2.4832e-01, -8.3189e-02]],\n",
       "       grad_fn=<SqueezeBackward1>)"
      ]
     },
     "execution_count": 23,
     "metadata": {},
     "output_type": "execute_result"
    }
   ],
   "source": [
    "forecasts"
   ]
  },
  {
   "cell_type": "markdown",
   "metadata": {},
   "source": [
    "# Transformer Model"
   ]
  },
  {
   "cell_type": "code",
   "execution_count": 10,
   "metadata": {},
   "outputs": [],
   "source": []
  },
  {
   "cell_type": "markdown",
   "metadata": {},
   "source": [
    "# Test Area"
   ]
  },
  {
   "cell_type": "code",
   "execution_count": 13,
   "metadata": {},
   "outputs": [
    {
     "data": {
      "text/html": [
       "<div>\n",
       "<style scoped>\n",
       "    .dataframe tbody tr th:only-of-type {\n",
       "        vertical-align: middle;\n",
       "    }\n",
       "\n",
       "    .dataframe tbody tr th {\n",
       "        vertical-align: top;\n",
       "    }\n",
       "\n",
       "    .dataframe thead th {\n",
       "        text-align: right;\n",
       "    }\n",
       "</style>\n",
       "<table border=\"1\" class=\"dataframe\">\n",
       "  <thead>\n",
       "    <tr style=\"text-align: right;\">\n",
       "      <th></th>\n",
       "      <th># Date and time</th>\n",
       "      <th>Energy Export (kWh)</th>\n",
       "      <th>Timestamp</th>\n",
       "    </tr>\n",
       "  </thead>\n",
       "  <tbody>\n",
       "    <tr>\n",
       "      <th>26059</th>\n",
       "      <td>2021-06-30 23:10:00</td>\n",
       "      <td>5.0</td>\n",
       "      <td>1.625095e+09</td>\n",
       "    </tr>\n",
       "    <tr>\n",
       "      <th>26060</th>\n",
       "      <td>2021-06-30 23:20:00</td>\n",
       "      <td>19.0</td>\n",
       "      <td>1.625095e+09</td>\n",
       "    </tr>\n",
       "    <tr>\n",
       "      <th>26061</th>\n",
       "      <td>2021-06-30 23:30:00</td>\n",
       "      <td>12.0</td>\n",
       "      <td>1.625096e+09</td>\n",
       "    </tr>\n",
       "    <tr>\n",
       "      <th>26062</th>\n",
       "      <td>2021-06-30 23:40:00</td>\n",
       "      <td>1.0</td>\n",
       "      <td>1.625096e+09</td>\n",
       "    </tr>\n",
       "    <tr>\n",
       "      <th>26063</th>\n",
       "      <td>2021-06-30 23:50:00</td>\n",
       "      <td>0.0</td>\n",
       "      <td>1.625097e+09</td>\n",
       "    </tr>\n",
       "  </tbody>\n",
       "</table>\n",
       "</div>"
      ],
      "text/plain": [
       "          # Date and time  Energy Export (kWh)     Timestamp\n",
       "26059 2021-06-30 23:10:00                  5.0  1.625095e+09\n",
       "26060 2021-06-30 23:20:00                 19.0  1.625095e+09\n",
       "26061 2021-06-30 23:30:00                 12.0  1.625096e+09\n",
       "26062 2021-06-30 23:40:00                  1.0  1.625096e+09\n",
       "26063 2021-06-30 23:50:00                  0.0  1.625097e+09"
      ]
     },
     "execution_count": 13,
     "metadata": {},
     "output_type": "execute_result"
    }
   ],
   "source": [
    "test_df.tail()"
   ]
  },
  {
   "cell_type": "code",
   "execution_count": 10,
   "metadata": {},
   "outputs": [],
   "source": [
    "class DetSparseDecoder(nn.Module):\n",
    "    def __init__(self, d_model, n_heads, encoder_output_dim, forecast_horizon=12, max_len=5000):\n",
    "        super(DetSparseDecoder, self).__init__()\n",
    "        self.d_model = d_model\n",
    "        self.n_heads = n_heads\n",
    "        self.forecast_horizon = forecast_horizon\n",
    "        # Initialize PositionalEncoding with a max_len that covers your forecast_horizon\n",
    "        self.pos_encoder = PositionalEncoding(d_model, max_len)\n",
    "        # Assuming SparseAttention is already defined and can handle the operations\n",
    "        self.encoder_decoder_attention = DetSparseAttentionModule(d_model, n_heads, prob_sparse_factor=5)  # Attention over encoder outputs\n",
    "        self.output_layer = nn.Linear(d_model, 1)  # Assuming a univariate forecast\n",
    "    \n",
    "    def forward(self, encoder_output):\n",
    "        # encoder_output: Output from the encoder phase\n",
    "\n",
    "        # Generate positional encodings for the forecast horizon\n",
    "        # Create a dummy input tensor for positional encoding generation\n",
    "        dummy_input = torch.zeros(self.forecast_horizon, self.d_model).unsqueeze(0)\n",
    "        pos_encodings = self.pos_encoder(dummy_input)\n",
    "        \n",
    "        # Apply encoder-decoder attention using positional encodings as queries and encoder outputs as keys and values\n",
    "        attn_output, _ = self.encoder_decoder_attention(pos_encodings, encoder_output, encoder_output, None)\n",
    "        print(f\"attention output: {attn_output.shape}\")\n",
    "        \n",
    "        # Generate forecasts based on the attention output\n",
    "        # Assuming the last dimension of attn_output corresponds to the forecast horizon\n",
    "        forecasts = self.output_layer(attn_output).squeeze(-1)  # Adjust dimensions as necessary\n",
    "        print(f\"forecast shape: {forecasts.shape}\")\n",
    "        \n",
    "        return forecasts"
   ]
  }
 ],
 "metadata": {
  "kernelspec": {
   "display_name": "Python 3",
   "language": "python",
   "name": "python3"
  },
  "language_info": {
   "codemirror_mode": {
    "name": "ipython",
    "version": 3
   },
   "file_extension": ".py",
   "mimetype": "text/x-python",
   "name": "python",
   "nbconvert_exporter": "python",
   "pygments_lexer": "ipython3",
   "version": "3.11.7"
  },
  "orig_nbformat": 4
 },
 "nbformat": 4,
 "nbformat_minor": 2
}
