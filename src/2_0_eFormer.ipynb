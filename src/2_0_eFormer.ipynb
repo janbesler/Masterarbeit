{
 "cells": [
  {
   "cell_type": "markdown",
   "metadata": {},
   "source": [
    "# Libraries"
   ]
  },
  {
   "cell_type": "code",
   "execution_count": 29,
   "metadata": {},
   "outputs": [],
   "source": [
    "# standard\n",
    "import pandas as pd\n",
    "import numpy as np\n",
    "from tqdm import tqdm\n",
    "import math\n",
    "from math import sqrt\n",
    "import time\n",
    "\n",
    "# reading data\n",
    "import os\n",
    "import json\n",
    "from collections import defaultdict\n",
    "\n",
    "# machine learning\n",
    "from sklearn.model_selection import train_test_split\n",
    "from sklearn.linear_model import LinearRegression\n",
    "from sklearn.metrics import mean_squared_error, mean_absolute_error\n",
    "import torch\n",
    "import torch.nn as nn\n",
    "import torch.nn.functional as F\n",
    "from torch.fft import rfft, irfft, fftn, ifftn\n",
    "from torch.utils.data import Dataset, DataLoader\n",
    "from torch.optim import AdamW\n",
    "\n",
    "# visuals\n",
    "import matplotlib.pyplot as plt\n",
    "import seaborn as sns\n",
    "\n",
    "# measuring ressources\n",
    "import time\n",
    "import psutil\n",
    "import GPUtil\n",
    "import threading\n",
    "\n",
    "# eFormer\n",
    "from eFormer.embeddings import Encoding, ProbEncoding, PositionalEncoding\n",
    "from eFormer.sparse_attention import ProbSparseAttentionModule, DetSparseAttentionModule\n",
    "from eFormer.loss_function import CRPS, weighted_CRPS\n",
    "from eFormer.sparse_decoder import DetSparseDecoder, ProbSparseDecoder\n",
    "from eFormer.Dataloader import TimeSeriesDataProcessor\n",
    "\n",
    "# transformer Benchmarks\n",
    "from Benchmarks.Benchmarks import VanillaTransformer, Informer\n",
    "\n",
    "%store -r Kelmarsh_df Penmanshiel_df"
   ]
  },
  {
   "cell_type": "markdown",
   "metadata": {},
   "source": [
    "# Hyperparameters"
   ]
  },
  {
   "cell_type": "code",
   "execution_count": 30,
   "metadata": {},
   "outputs": [
    {
     "name": "stdout",
     "output_type": "stream",
     "text": [
      "Stored 'hyperparameters' (dict)\n"
     ]
    }
   ],
   "source": [
    "# set global parameters\n",
    "hyperparameters = {\n",
    "    'n_heads': 4,\n",
    "    'ProbabilisticModel': False,\n",
    "    # embeddings\n",
    "    'len_embedding': 64,\n",
    "    'batch_size': 512,\n",
    "    # general\n",
    "    'pred_len': 1,\n",
    "    'seq_len': 72,\n",
    "    'patience': 7,\n",
    "    'dropout': 0.05,\n",
    "    'learning_rate': 6e-4,\n",
    "    'WeightDecay': 1e-1,\n",
    "    'train_epochs': 5,\n",
    "    'num_workers': 10,\n",
    "    # benchmarks\n",
    "    'factor': 1,\n",
    "    'output_attention': True,\n",
    "    'd_model': 64,\n",
    "    'c_out': 6,\n",
    "    'e_layers': 2,\n",
    "    'd_layers': 2,\n",
    "    'activation': 'relu',\n",
    "    'd_ff': 1,\n",
    "    }\n",
    "\n",
    "device = torch.device('cuda' if torch.cuda.is_available() else 'cpu')\n",
    "\n",
    "%store hyperparameters"
   ]
  },
  {
   "cell_type": "markdown",
   "metadata": {},
   "source": [
    "# Ressource Management"
   ]
  },
  {
   "cell_type": "code",
   "execution_count": 31,
   "metadata": {},
   "outputs": [],
   "source": [
    "def check_system_conditions():\n",
    "    # Get CPU usage for each core\n",
    "    cpu_percent = round(psutil.cpu_percent(), 4)\n",
    "\n",
    "    # Get memory information\n",
    "    memory_info = psutil.virtual_memory()\n",
    "    memory_used_gb = round(memory_info.used / (1024 ** 3), 4)\n",
    "\n",
    "    # Get GPU information\n",
    "    try:\n",
    "      gpu_info = GPUtil.getGPUs()[0]\n",
    "      gpu_memory_used_gb = round(gpu_info.memoryUsed / 1024, 4)\n",
    "    except IndexError:\n",
    "      # If no GPU is found, set variables to None\n",
    "      gpu_memory_used_gb = None\n",
    "\n",
    "    # Collect data in a dictionary\n",
    "    comp_usage = {\n",
    "        'CPU Usage': cpu_percent,\n",
    "        'Memory Usage (GB)': memory_used_gb,\n",
    "        'GPU Usage (GB)': gpu_memory_used_gb\n",
    "    }\n",
    "\n",
    "    return comp_usage"
   ]
  },
  {
   "cell_type": "markdown",
   "metadata": {},
   "source": [
    "# Load Data"
   ]
  },
  {
   "cell_type": "code",
   "execution_count": 32,
   "metadata": {},
   "outputs": [],
   "source": [
    "def shifted_data(data, forecast, look_back):\n",
    "    data = data.set_index('# Date and time')\n",
    "    data.index.names = [None]\n",
    "    data = data.drop(['Long Term Wind (m/s)'], axis=1)\n",
    "    shifts = range(forecast, look_back + forecast)\n",
    "    variables = data.columns\n",
    "        \n",
    "    shifted_columns = []\n",
    "    for column in variables:\n",
    "        for i in shifts:\n",
    "            shifted_df = data[[column]].shift(i)\n",
    "            shifted_df.rename(columns={column: f\"{column} (lag {i})\"}, inplace=True)\n",
    "            shifted_columns.append(shifted_df)\n",
    "        \n",
    "    data = data.drop(['Wind speed (m/s)'], axis=1)\n",
    "    data_shifted = pd.concat([data] + shifted_columns, axis=1)\n",
    "    data_shifted.dropna(inplace=True)\n",
    "        \n",
    "    return data_shifted"
   ]
  },
  {
   "cell_type": "code",
   "execution_count": 33,
   "metadata": {},
   "outputs": [],
   "source": [
    "data = Kelmarsh_df['1']\n",
    "data = data.set_index('# Date and time')\n",
    "data.index.names = [None]\n",
    "data = data.drop(['Long Term Wind (m/s)'], axis=1)\n",
    "\n",
    "data.to_csv('../data/Results/test_data.csv')"
   ]
  },
  {
   "cell_type": "code",
   "execution_count": 34,
   "metadata": {},
   "outputs": [],
   "source": [
    "test_df = shifted_data(Kelmarsh_df['1'], 4, 72)"
   ]
  },
  {
   "cell_type": "code",
   "execution_count": 35,
   "metadata": {},
   "outputs": [],
   "source": [
    "# Assuming `df` is your initial DataFrame\n",
    "processor = TimeSeriesDataProcessor(\n",
    "    dataframe=data,\n",
    "    forecast=hyperparameters['pred_len'],\n",
    "    look_back=hyperparameters['seq_len'],\n",
    "    batch_size=hyperparameters['batch_size'])\n",
    "    \n",
    "train_loader, test_loader, eval_loader = processor.create_dataloaders()"
   ]
  },
  {
   "cell_type": "code",
   "execution_count": 36,
   "metadata": {},
   "outputs": [
    {
     "name": "stdout",
     "output_type": "stream",
     "text": [
      "Stored 'features' (Tensor)\n",
      "Stored 'labels' (Tensor)\n"
     ]
    }
   ],
   "source": [
    "for batch in train_loader:\n",
    "    features, labels = batch\n",
    "    break\n",
    "\n",
    "%store features labels"
   ]
  },
  {
   "cell_type": "code",
   "execution_count": 37,
   "metadata": {},
   "outputs": [],
   "source": [
    "class EarlyStopping:\n",
    "    \"\"\"Early stops the training if validation loss doesn't improve after a given patience.\"\"\"\n",
    "    def __init__(self, patience=7, verbose=False, delta=0):\n",
    "        \"\"\"\n",
    "        Args:\n",
    "            patience (int): How long to wait after last time validation loss improved.\n",
    "                            Default: 7\n",
    "            verbose (bool): If True, prints a message for each validation loss improvement. \n",
    "                            Default: False\n",
    "            delta (float): Minimum change in the monitored quantity to qualify as an improvement.\n",
    "                            Default: 0\n",
    "        \"\"\"\n",
    "        self.patience = patience\n",
    "        self.verbose = verbose\n",
    "        self.counter = 0\n",
    "        self.best_score = None\n",
    "        self.early_stop = False\n",
    "        self.val_loss_min = np.Inf\n",
    "        self.delta = delta\n",
    "\n",
    "    def __call__(self, val_loss):\n",
    "        score = -val_loss\n",
    "\n",
    "        if self.best_score is None:\n",
    "            self.best_score = score\n",
    "        elif score < self.best_score + self.delta:\n",
    "            self.counter += 1\n",
    "            print(f'EarlyStopping counter: {self.counter} out of {self.patience}')\n",
    "            if self.counter >= self.patience:\n",
    "                self.early_stop = True\n",
    "        else:\n",
    "            self.best_score = score\n",
    "            self.counter = 0\n",
    "            if self.verbose:\n",
    "                print(f'Validation loss decreased ({self.val_loss_min:.6f} --> {val_loss:.6f})')\n",
    "            self.val_loss_min = val_loss"
   ]
  },
  {
   "cell_type": "markdown",
   "metadata": {},
   "source": [
    "# Linear Model"
   ]
  },
  {
   "cell_type": "code",
   "execution_count": 22,
   "metadata": {},
   "outputs": [],
   "source": [
    "# Single Layer Perceptron Model\n",
    "class LinearModel(nn.Module):\n",
    "    def __init__(self, input_size, output_size):\n",
    "        super(LinearModel, self).__init__()\n",
    "        self.linear = nn.Linear(input_size, output_size)\n",
    "\n",
    "    def forward(self, x):\n",
    "        x = self.linear(x)\n",
    "        weights = self.linear.weight.data\n",
    "        \n",
    "        return x.squeeze(1), weights"
   ]
  },
  {
   "cell_type": "markdown",
   "metadata": {},
   "source": [
    "# Transformer Model"
   ]
  },
  {
   "cell_type": "code",
   "execution_count": 23,
   "metadata": {},
   "outputs": [],
   "source": [
    "class eFormer(nn.Module):\n",
    "    def __init__(self, batch_size, seq_len, in_features, forecast, len_embedding_vector, n_heads, probabilistic_model=False):\n",
    "        super(eFormer, self).__init__()\n",
    "        self.probabilistic_model = probabilistic_model\n",
    "        self.n_heads = n_heads\n",
    "        self.len_embedding_vector = len_embedding_vector\n",
    "\n",
    "        # Initialize encoding model\n",
    "        if probabilistic_model:\n",
    "            self.encoding_model = ProbEncoding(in_features=in_features, batch_size=batch_size, seq_len=seq_len, len_embedding_vector=len_embedding_vector)\n",
    "        else:\n",
    "            self.encoding_model = Encoding(in_features=in_features, batch_size=batch_size, seq_len=seq_len, len_embedding_vector=len_embedding_vector)\n",
    "\n",
    "        # Initialize attention module\n",
    "        if probabilistic_model:\n",
    "            self.attention_module = ProbSparseAttentionModule(d_model=len_embedding_vector, n_heads=n_heads, prob_sparse_factor=5, seq_len=seq_len)\n",
    "        else:\n",
    "            self.attention_module = DetSparseAttentionModule(d_model=len_embedding_vector, n_heads=n_heads, prob_sparse_factor=5, seq_len=seq_len)\n",
    "\n",
    "        # Initialize decoder\n",
    "        # Assuming the decoder initialization does not actually require the output shape directly but parameters that depend on the model configuration\n",
    "        if probabilistic_model:\n",
    "            self.decoder = ProbSparseDecoder(d_model=len_embedding_vector, n_heads=n_heads, batch_size=batch_size, seq_len=seq_len, forecast_horizon=forecast)\n",
    "        else:\n",
    "            self.decoder = DetSparseDecoder(d_model=len_embedding_vector, n_heads=n_heads, batch_size=batch_size, seq_len=seq_len, forecast_horizon=forecast)\n",
    "\n",
    "    def forward(self, features_matrix):\n",
    "        if torch.isnan(features_matrix).any():\n",
    "            raise ValueError('NaN values detected in Input')\n",
    "\n",
    "        embeddings = self.encoding_model(features_matrix)\n",
    "        if torch.isnan(embeddings).any():\n",
    "            raise ValueError('NaN values detected in Embeddings')\n",
    "\n",
    "        encoder_output = self.attention_module(embeddings, embeddings, embeddings)\n",
    "        if torch.isnan(encoder_output).any():\n",
    "            raise ValueError('NaN values detected in Sparse Attention Output')\n",
    "\n",
    "        forecasts, crps_weights = self.decoder(encoder_output)\n",
    "        return forecasts, crps_weights"
   ]
  },
  {
   "cell_type": "code",
   "execution_count": 27,
   "metadata": {},
   "outputs": [
    {
     "ename": "KeyboardInterrupt",
     "evalue": "",
     "output_type": "error",
     "traceback": [
      "\u001b[0;31m---------------------------------------------------------------------------\u001b[0m",
      "\u001b[0;31mKeyboardInterrupt\u001b[0m                         Traceback (most recent call last)",
      "\u001b[1;32m/home/jan/Documents/Masterarbeit/src/2_0_eFormer.ipynb Cell 18\u001b[0m line \u001b[0;36m5\n\u001b[1;32m     <a href='vscode-notebook-cell:/home/jan/Documents/Masterarbeit/src/2_0_eFormer.ipynb#X21sZmlsZQ%3D%3D?line=53'>54</a>\u001b[0m predictions, crps_weights \u001b[39m=\u001b[39m model(features)\n\u001b[1;32m     <a href='vscode-notebook-cell:/home/jan/Documents/Masterarbeit/src/2_0_eFormer.ipynb#X21sZmlsZQ%3D%3D?line=54'>55</a>\u001b[0m loss \u001b[39m=\u001b[39m loss_fn(predictions\u001b[39m.\u001b[39munsqueeze(\u001b[39m1\u001b[39m), labels)\n\u001b[0;32m---> <a href='vscode-notebook-cell:/home/jan/Documents/Masterarbeit/src/2_0_eFormer.ipynb#X21sZmlsZQ%3D%3D?line=55'>56</a>\u001b[0m loss\u001b[39m.\u001b[39;49mbackward()\n\u001b[1;32m     <a href='vscode-notebook-cell:/home/jan/Documents/Masterarbeit/src/2_0_eFormer.ipynb#X21sZmlsZQ%3D%3D?line=56'>57</a>\u001b[0m optimizer\u001b[39m.\u001b[39mstep()\n\u001b[1;32m     <a href='vscode-notebook-cell:/home/jan/Documents/Masterarbeit/src/2_0_eFormer.ipynb#X21sZmlsZQ%3D%3D?line=57'>58</a>\u001b[0m train_losses\u001b[39m.\u001b[39mappend(loss\u001b[39m.\u001b[39mitem())\n",
      "File \u001b[0;32m~/.var/app/com.vscodium.codium/data/python/lib/python3.11/site-packages/torch/_tensor.py:492\u001b[0m, in \u001b[0;36mTensor.backward\u001b[0;34m(self, gradient, retain_graph, create_graph, inputs)\u001b[0m\n\u001b[1;32m    482\u001b[0m \u001b[39mif\u001b[39;00m has_torch_function_unary(\u001b[39mself\u001b[39m):\n\u001b[1;32m    483\u001b[0m     \u001b[39mreturn\u001b[39;00m handle_torch_function(\n\u001b[1;32m    484\u001b[0m         Tensor\u001b[39m.\u001b[39mbackward,\n\u001b[1;32m    485\u001b[0m         (\u001b[39mself\u001b[39m,),\n\u001b[0;32m   (...)\u001b[0m\n\u001b[1;32m    490\u001b[0m         inputs\u001b[39m=\u001b[39minputs,\n\u001b[1;32m    491\u001b[0m     )\n\u001b[0;32m--> 492\u001b[0m torch\u001b[39m.\u001b[39;49mautograd\u001b[39m.\u001b[39;49mbackward(\n\u001b[1;32m    493\u001b[0m     \u001b[39mself\u001b[39;49m, gradient, retain_graph, create_graph, inputs\u001b[39m=\u001b[39;49minputs\n\u001b[1;32m    494\u001b[0m )\n",
      "File \u001b[0;32m~/.var/app/com.vscodium.codium/data/python/lib/python3.11/site-packages/torch/autograd/__init__.py:251\u001b[0m, in \u001b[0;36mbackward\u001b[0;34m(tensors, grad_tensors, retain_graph, create_graph, grad_variables, inputs)\u001b[0m\n\u001b[1;32m    246\u001b[0m     retain_graph \u001b[39m=\u001b[39m create_graph\n\u001b[1;32m    248\u001b[0m \u001b[39m# The reason we repeat the same comment below is that\u001b[39;00m\n\u001b[1;32m    249\u001b[0m \u001b[39m# some Python versions print out the first line of a multi-line function\u001b[39;00m\n\u001b[1;32m    250\u001b[0m \u001b[39m# calls in the traceback and some print out the last line\u001b[39;00m\n\u001b[0;32m--> 251\u001b[0m Variable\u001b[39m.\u001b[39;49m_execution_engine\u001b[39m.\u001b[39;49mrun_backward(  \u001b[39m# Calls into the C++ engine to run the backward pass\u001b[39;49;00m\n\u001b[1;32m    252\u001b[0m     tensors,\n\u001b[1;32m    253\u001b[0m     grad_tensors_,\n\u001b[1;32m    254\u001b[0m     retain_graph,\n\u001b[1;32m    255\u001b[0m     create_graph,\n\u001b[1;32m    256\u001b[0m     inputs,\n\u001b[1;32m    257\u001b[0m     allow_unreachable\u001b[39m=\u001b[39;49m\u001b[39mTrue\u001b[39;49;00m,\n\u001b[1;32m    258\u001b[0m     accumulate_grad\u001b[39m=\u001b[39;49m\u001b[39mTrue\u001b[39;49;00m,\n\u001b[1;32m    259\u001b[0m )\n",
      "\u001b[0;31mKeyboardInterrupt\u001b[0m: "
     ]
    }
   ],
   "source": [
    "# initiate model etc\n",
    "early_stopping = EarlyStopping(\n",
    "    patience=hyperparameters['patience'],\n",
    "    verbose=True\n",
    "    )\n",
    "#\"\"\"\n",
    "model = eFormer(\n",
    "    in_features=(hyperparameters['seq_len'] * 2),\n",
    "    batch_size=hyperparameters['batch_size'],\n",
    "    seq_len=hyperparameters['seq_len'],\n",
    "    forecast=hyperparameters['pred_len'],\n",
    "    len_embedding_vector=hyperparameters['len_embedding'],\n",
    "    n_heads=hyperparameters['n_heads'],\n",
    "    probabilistic_model=hyperparameters['ProbabilisticModel']).to(device)\n",
    "\"\"\"\n",
    "model = LinearModel(\n",
    "    input_size=(hyperparameters['seq_len'] * 2),\n",
    "    output_size=hyperparameters['pred_len'],\n",
    ").to(device)\n",
    "\"\"\"\n",
    "optimizer = AdamW(\n",
    "    params = model.parameters(),\n",
    "    lr=hyperparameters['learning_rate'],\n",
    "    weight_decay=hyperparameters['WeightDecay']\n",
    "    )\n",
    "loss_fn = nn.MSELoss()\n",
    "num_epochs = hyperparameters['train_epochs']\n",
    "\n",
    "# function to run monitoring in a separate thread\n",
    "def monitor_system_usage(every_n_seconds=10, keep_running=lambda: True, results_list=[]):\n",
    "    while keep_running():\n",
    "        comp_usage = check_system_conditions()\n",
    "        results_list.append(comp_usage)\n",
    "        time.sleep(every_n_seconds)\n",
    "\n",
    "# Initialize a list to store the results\n",
    "system_usage_results = []\n",
    "\n",
    "# Define a lambda function to control the monitoring loop\n",
    "keep_monitoring = lambda: keep_monitoring_flag\n",
    "keep_monitoring_flag = True # Initialize the flag before starting training\n",
    "\n",
    "# Start the monitoring thread\n",
    "monitor_thread = threading.Thread(target=monitor_system_usage, args=(5, keep_monitoring, system_usage_results))\n",
    "monitor_thread.start()\n",
    "\n",
    "for epoch in range(num_epochs):\n",
    "    epoch_start_time = time.time()\n",
    "    model.train()\n",
    "    train_losses = []\n",
    "    for features, labels in train_loader:\n",
    "        features, labels = features.to(device), labels.to(device)\n",
    "        optimizer.zero_grad()\n",
    "        predictions, crps_weights = model(features)\n",
    "        loss = loss_fn(predictions.unsqueeze(1), labels)\n",
    "        loss.backward()\n",
    "        optimizer.step()\n",
    "        train_losses.append(loss.item())\n",
    "\n",
    "    train_loss_avg = np.mean(train_losses)\n",
    "    print(f\"Epoch {epoch + 1} / {num_epochs} with Loss: {round(train_loss_avg, 6)}\")\n",
    "\n",
    "    # Validation phase\n",
    "    model.eval()\n",
    "    validation_losses = []\n",
    "    predictions_collected = []\n",
    "    groundtruth_collected = []\n",
    "    batches_collected = 0  # Counter to keep track of the batches\n",
    "    with torch.no_grad():\n",
    "        for features, labels in eval_loader:\n",
    "            features, labels = features.to(device), labels.to(device)\n",
    "            predictions, crps_weights = model(features)\n",
    "            val_loss = loss_fn(predictions, labels)\n",
    "            validation_losses.append(val_loss.item())\n",
    "\n",
    "            if batches_collected >= 10:\n",
    "                pass  # Exit loop after collecting from 10 batches\n",
    "            else:\n",
    "                predictions_collected.extend(predictions.tolist())\n",
    "                groundtruth_collected.extend(labels.tolist())\n",
    "                batches_collected += 1\n",
    "\n",
    "    val_loss_avg = np.mean(validation_losses)\n",
    "    print(f\"Validation Loss: {round(val_loss_avg, 6)}\")\n",
    "\n",
    "    epoch_end_time = time.time()\n",
    "    epoch_duration = epoch_end_time - epoch_start_time\n",
    "    print(f\"Epoch Duration: {round(epoch_duration, 4)}s\")\n",
    "\n",
    "    early_stopping(val_loss_avg)\n",
    "    if early_stopping.early_stop:\n",
    "        print(\"Early stopping\")\n",
    "        break\n",
    "\n",
    "# After training is done, set the flag to False to stop the monitoring thread\n",
    "keep_monitoring_flag = False\n",
    "monitor_thread.join()  # Wait for the monitoring thread to finish\n",
    "\n",
    "# Convert the results list to a DataFrame\n",
    "system_usage_df = pd.DataFrame(system_usage_results)\n",
    "\n",
    "# saving weights"
   ]
  },
  {
   "cell_type": "code",
   "execution_count": 13,
   "metadata": {},
   "outputs": [
    {
     "name": "stdout",
     "output_type": "stream",
     "text": [
      "torch.Size([256])\n",
      "torch.Size([256])\n"
     ]
    }
   ],
   "source": [
    "print(predictions.shape)\n",
    "print(labels.shape)"
   ]
  },
  {
   "cell_type": "markdown",
   "metadata": {},
   "source": [
    "# Benchmark Models"
   ]
  },
  {
   "cell_type": "code",
   "execution_count": 38,
   "metadata": {},
   "outputs": [],
   "source": [
    "class Config:\n",
    "    def __init__(self, dictionary):\n",
    "        for key, value in dictionary.items():\n",
    "            setattr(self, key, value)"
   ]
  },
  {
   "cell_type": "markdown",
   "metadata": {},
   "source": [
    "## vanilla Transformer"
   ]
  },
  {
   "cell_type": "code",
   "execution_count": 39,
   "metadata": {},
   "outputs": [
    {
     "ename": "KeyboardInterrupt",
     "evalue": "",
     "output_type": "error",
     "traceback": [
      "\u001b[0;31m---------------------------------------------------------------------------\u001b[0m",
      "\u001b[0;31mKeyboardInterrupt\u001b[0m                         Traceback (most recent call last)",
      "\u001b[1;32m/home/jan/Documents/Masterarbeit/src/2_0_eFormer.ipynb Cell 23\u001b[0m line \u001b[0;36m4\n\u001b[1;32m     <a href='vscode-notebook-cell:/home/jan/Documents/Masterarbeit/src/2_0_eFormer.ipynb#X46sZmlsZQ%3D%3D?line=41'>42</a>\u001b[0m predictions, crps_weights \u001b[39m=\u001b[39m model(features)\n\u001b[1;32m     <a href='vscode-notebook-cell:/home/jan/Documents/Masterarbeit/src/2_0_eFormer.ipynb#X46sZmlsZQ%3D%3D?line=42'>43</a>\u001b[0m loss \u001b[39m=\u001b[39m loss_fn(predictions, labels)\n\u001b[0;32m---> <a href='vscode-notebook-cell:/home/jan/Documents/Masterarbeit/src/2_0_eFormer.ipynb#X46sZmlsZQ%3D%3D?line=43'>44</a>\u001b[0m loss\u001b[39m.\u001b[39;49mbackward()\n\u001b[1;32m     <a href='vscode-notebook-cell:/home/jan/Documents/Masterarbeit/src/2_0_eFormer.ipynb#X46sZmlsZQ%3D%3D?line=44'>45</a>\u001b[0m optimizer\u001b[39m.\u001b[39mstep()\n\u001b[1;32m     <a href='vscode-notebook-cell:/home/jan/Documents/Masterarbeit/src/2_0_eFormer.ipynb#X46sZmlsZQ%3D%3D?line=45'>46</a>\u001b[0m train_losses\u001b[39m.\u001b[39mappend(loss\u001b[39m.\u001b[39mitem())\n",
      "File \u001b[0;32m~/.var/app/com.vscodium.codium/data/python/lib/python3.11/site-packages/torch/_tensor.py:492\u001b[0m, in \u001b[0;36mTensor.backward\u001b[0;34m(self, gradient, retain_graph, create_graph, inputs)\u001b[0m\n\u001b[1;32m    482\u001b[0m \u001b[39mif\u001b[39;00m has_torch_function_unary(\u001b[39mself\u001b[39m):\n\u001b[1;32m    483\u001b[0m     \u001b[39mreturn\u001b[39;00m handle_torch_function(\n\u001b[1;32m    484\u001b[0m         Tensor\u001b[39m.\u001b[39mbackward,\n\u001b[1;32m    485\u001b[0m         (\u001b[39mself\u001b[39m,),\n\u001b[0;32m   (...)\u001b[0m\n\u001b[1;32m    490\u001b[0m         inputs\u001b[39m=\u001b[39minputs,\n\u001b[1;32m    491\u001b[0m     )\n\u001b[0;32m--> 492\u001b[0m torch\u001b[39m.\u001b[39;49mautograd\u001b[39m.\u001b[39;49mbackward(\n\u001b[1;32m    493\u001b[0m     \u001b[39mself\u001b[39;49m, gradient, retain_graph, create_graph, inputs\u001b[39m=\u001b[39;49minputs\n\u001b[1;32m    494\u001b[0m )\n",
      "File \u001b[0;32m~/.var/app/com.vscodium.codium/data/python/lib/python3.11/site-packages/torch/autograd/__init__.py:251\u001b[0m, in \u001b[0;36mbackward\u001b[0;34m(tensors, grad_tensors, retain_graph, create_graph, grad_variables, inputs)\u001b[0m\n\u001b[1;32m    246\u001b[0m     retain_graph \u001b[39m=\u001b[39m create_graph\n\u001b[1;32m    248\u001b[0m \u001b[39m# The reason we repeat the same comment below is that\u001b[39;00m\n\u001b[1;32m    249\u001b[0m \u001b[39m# some Python versions print out the first line of a multi-line function\u001b[39;00m\n\u001b[1;32m    250\u001b[0m \u001b[39m# calls in the traceback and some print out the last line\u001b[39;00m\n\u001b[0;32m--> 251\u001b[0m Variable\u001b[39m.\u001b[39;49m_execution_engine\u001b[39m.\u001b[39;49mrun_backward(  \u001b[39m# Calls into the C++ engine to run the backward pass\u001b[39;49;00m\n\u001b[1;32m    252\u001b[0m     tensors,\n\u001b[1;32m    253\u001b[0m     grad_tensors_,\n\u001b[1;32m    254\u001b[0m     retain_graph,\n\u001b[1;32m    255\u001b[0m     create_graph,\n\u001b[1;32m    256\u001b[0m     inputs,\n\u001b[1;32m    257\u001b[0m     allow_unreachable\u001b[39m=\u001b[39;49m\u001b[39mTrue\u001b[39;49;00m,\n\u001b[1;32m    258\u001b[0m     accumulate_grad\u001b[39m=\u001b[39;49m\u001b[39mTrue\u001b[39;49;00m,\n\u001b[1;32m    259\u001b[0m )\n",
      "\u001b[0;31mKeyboardInterrupt\u001b[0m: "
     ]
    }
   ],
   "source": [
    "# initiate model etc\n",
    "early_stopping = EarlyStopping(\n",
    "    patience=hyperparameters['patience'],\n",
    "    verbose=True\n",
    "    )\n",
    "model = VanillaTransformer(\n",
    "    configs = Config(hyperparameters)\n",
    ")\n",
    "optimizer = AdamW(\n",
    "    params = model.parameters(),\n",
    "    lr=hyperparameters['learning_rate'],\n",
    "    weight_decay=hyperparameters['WeightDecay']\n",
    "    )\n",
    "loss_fn = nn.MSELoss()\n",
    "num_epochs = hyperparameters['train_epochs']\n",
    "\n",
    "# function to run monitoring in a separate thread\n",
    "def monitor_system_usage(every_n_seconds=10, keep_running=lambda: True, results_list=[]):\n",
    "    while keep_running():\n",
    "        comp_usage = check_system_conditions()\n",
    "        results_list.append(comp_usage)\n",
    "        time.sleep(every_n_seconds)\n",
    "\n",
    "# Initialize a list to store the results\n",
    "system_usage_results = []\n",
    "\n",
    "# Define a lambda function to control the monitoring loop\n",
    "keep_monitoring = lambda: keep_monitoring_flag\n",
    "keep_monitoring_flag = True # Initialize the flag before starting training\n",
    "\n",
    "# Start the monitoring thread\n",
    "monitor_thread = threading.Thread(target=monitor_system_usage, args=(5, keep_monitoring, system_usage_results))\n",
    "monitor_thread.start()\n",
    "\n",
    "for epoch in range(num_epochs):\n",
    "    epoch_start_time = time.time()\n",
    "    model.train()\n",
    "    train_losses = []\n",
    "    for features, labels in train_loader:\n",
    "        features, labels = features.to(device), labels.to(device)\n",
    "        optimizer.zero_grad()\n",
    "        predictions, crps_weights = model(features)\n",
    "        loss = loss_fn(predictions, labels)\n",
    "        loss.backward()\n",
    "        optimizer.step()\n",
    "        train_losses.append(loss.item())\n",
    "\n",
    "    train_loss_avg = np.mean(train_losses)\n",
    "    print(f\"Epoch {epoch + 1} / {num_epochs} with Loss: {round(train_loss_avg, 6)}\")\n",
    "\n",
    "    # Validation phase\n",
    "    model.eval()\n",
    "    validation_losses = []\n",
    "    predictions_collected = []\n",
    "    groundtruth_collected = []\n",
    "    batches_collected = 0  # Counter to keep track of the batches\n",
    "    with torch.no_grad():\n",
    "        for features, labels in eval_loader:\n",
    "            features, labels = features.to(device), labels.to(device)\n",
    "            predictions, crps_weights = model(features)\n",
    "            val_loss = loss_fn(predictions, labels)\n",
    "            validation_losses.append(val_loss.item())\n",
    "\n",
    "            if batches_collected >= 10:\n",
    "                pass  # Exit loop after collecting from 10 batches\n",
    "            else:\n",
    "                predictions_collected.extend(predictions.tolist())\n",
    "                groundtruth_collected.extend(labels.tolist())\n",
    "                batches_collected += 1\n",
    "\n",
    "    val_loss_avg = np.mean(validation_losses)\n",
    "    print(f\"Validation Loss: {round(val_loss_avg, 6)}\")\n",
    "\n",
    "    epoch_end_time = time.time()\n",
    "    epoch_duration = epoch_end_time - epoch_start_time\n",
    "    print(f\"Epoch Duration: {round(epoch_duration, 4)}s\")\n",
    "\n",
    "    early_stopping(val_loss_avg)\n",
    "    if early_stopping.early_stop:\n",
    "        print(\"Early stopping\")\n",
    "        break\n",
    "\n",
    "# After training is done, set the flag to False to stop the monitoring thread\n",
    "keep_monitoring_flag = False\n",
    "monitor_thread.join()  # Wait for the monitoring thread to finish\n",
    "\n",
    "# Convert the results list to a DataFrame\n",
    "system_usage_df = pd.DataFrame(system_usage_results)\n",
    "\n",
    "# saving weights"
   ]
  },
  {
   "cell_type": "markdown",
   "metadata": {},
   "source": [
    "# Test Area"
   ]
  },
  {
   "cell_type": "code",
   "execution_count": null,
   "metadata": {},
   "outputs": [],
   "source": [
    "test_tensor = torch"
   ]
  },
  {
   "cell_type": "code",
   "execution_count": null,
   "metadata": {},
   "outputs": [],
   "source": [
    "# Concatenate all DataFrames in the dictionary into a single DataFrame\n",
    "Kelmarsh_full_df = pd.concat(Kelmarsh_df.values(), ignore_index=True)\n",
    "Penmanshiel_full_df = pd.concat(Penmanshiel_df.values(), ignore_index=True)\n",
    "\n",
    "Wind_df = pd.concat([Kelmarsh_full_df, Penmanshiel_full_df], ignore_index=True, sort=False)\n",
    "\n",
    "Wind_df = Wind_df.drop('date', axis=1)\n",
    "\n",
    "Wind_df.to_csv('../data/Windturbinen/Wind_df.csv')"
   ]
  },
  {
   "cell_type": "markdown",
   "metadata": {},
   "source": [
    "# To-Do's\n",
    "\n",
    "- ground truth and forecasted values in graph as time series\n",
    "- seperate model for wind and company, one model can't output 2 different results for same equation\n",
    "\n",
    "- label_length = look_back\n",
    "- sequence_length -> window size"
   ]
  }
 ],
 "metadata": {
  "kernelspec": {
   "display_name": "Python 3",
   "language": "python",
   "name": "python3"
  },
  "language_info": {
   "codemirror_mode": {
    "name": "ipython",
    "version": 3
   },
   "file_extension": ".py",
   "mimetype": "text/x-python",
   "name": "python",
   "nbconvert_exporter": "python",
   "pygments_lexer": "ipython3",
   "version": "3.11.8"
  },
  "orig_nbformat": 4
 },
 "nbformat": 4,
 "nbformat_minor": 2
}
