{
 "cells": [
  {
   "cell_type": "code",
   "execution_count": null,
   "metadata": {},
   "outputs": [],
   "source": [
    "# function multi-step\n",
    "\n",
    "# load weights\n",
    "\n",
    "# weights in model pushen\n",
    "\n",
    "# test-dataset forecasten mit multi step function\n",
    "\n",
    "# model is in "
   ]
  }
 ],
 "metadata": {
  "language_info": {
   "name": "python"
  }
 },
 "nbformat": 4,
 "nbformat_minor": 2
}
