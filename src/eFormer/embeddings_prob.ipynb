{
 "cells": [
  {
   "cell_type": "markdown",
   "metadata": {},
   "source": [
    "# Libraries"
   ]
  },
  {
   "cell_type": "code",
   "execution_count": 2,
   "metadata": {},
   "outputs": [],
   "source": [
    "import math\n",
    "\n",
    "# machine learning\n",
    "import torch\n",
    "import torch.nn as nn\n",
    "import torch.nn.functional as F\n",
    "\n",
    "%store -r features_matrix"
   ]
  },
  {
   "cell_type": "markdown",
   "metadata": {},
   "source": [
    "# Probabilistic Embeddings"
   ]
  },
  {
   "cell_type": "code",
   "execution_count": 3,
   "metadata": {},
   "outputs": [],
   "source": [
    "def t2v(\n",
    "    tau, # input tensor\n",
    "    f, # activation function (sin or cosin)\n",
    "    out_features, # size of output vector\n",
    "    w, # weights\n",
    "    b, # biases\n",
    "    w0, # weights for linear part of time2vec layer\n",
    "    b0, # biases for linear part of time2vec layer\n",
    "    arg=None # optional arguments\n",
    "    ):\n",
    "    if arg:\n",
    "        v1 = f(torch.matmul(tau, w) + b, arg)\n",
    "    else:\n",
    "        #print(w.shape, t1.shape, b.shape)\n",
    "        v1 = f(torch.matmul(tau, w) + b)\n",
    "    v2 = torch.matmul(tau, w0) + b0\n",
    "    #print(v1.shape)\n",
    "    return torch.cat([v1, v2], -1)\n",
    "\n",
    "class ProbabilisticSineActivation(nn.Module):\n",
    "    def __init__(self, in_features, out_features):\n",
    "        super(ProbabilisticSineActivation, self).__init__()\n",
    "        self.out_features = out_features // 2  # Half for mean, half for variance\n",
    "        self.w0 = nn.Parameter(torch.randn(in_features, 1))\n",
    "        self.b0 = nn.Parameter(torch.randn(1))\n",
    "        self.w = nn.Parameter(torch.randn(in_features, self.out_features - 1))\n",
    "        self.b = nn.Parameter(torch.randn(self.out_features - 1))\n",
    "        self.f = torch.sin\n",
    "\n",
    "    def forward(self, tau):\n",
    "        # Calculate mean\n",
    "        mean = t2v(tau, self.f, self.out_features, self.w, self.b, self.w0, self.b0)\n",
    "        \n",
    "        # Calculate variance (use another set of weights and biases, ensure positive variance)\n",
    "        variance = F.softplus(t2v(tau, self.f, self.out_features, \n",
    "                                  torch.randn_like(self.w), torch.randn_like(self.b), \n",
    "                                  torch.randn_like(self.w0), torch.randn_like(self.b0)))\n",
    "        \n",
    "        return torch.cat([mean, variance], -1)\n",
    "\n",
    "class ProbabilisticCosineActivation(nn.Module):\n",
    "    def __init__(self, in_features, out_features):\n",
    "        super(ProbabilisticCosineActivation, self).__init__()\n",
    "        self.out_features = out_features // 2  # Half for mean, half for variance\n",
    "        self.w0 = nn.Parameter(torch.randn(in_features, 1))\n",
    "        self.b0 = nn.Parameter(torch.randn(1))\n",
    "        self.w = nn.Parameter(torch.randn(in_features, self.out_features - 1))\n",
    "        self.b = nn.Parameter(torch.randn(self.out_features - 1))\n",
    "        self.f = torch.cos\n",
    "\n",
    "    def forward(self, tau):\n",
    "        # Calculate mean\n",
    "        mean = t2v(tau, self.f, self.out_features, self.w, self.b, self.w0, self.b0)\n",
    "        \n",
    "        # Calculate variance (use another set of weights and biases, ensure positive variance)\n",
    "        variance = F.softplus(t2v(tau, self.f, self.out_features, \n",
    "                                  torch.randn_like(self.w), torch.randn_like(self.b), \n",
    "                                  torch.randn_like(self.w0), torch.randn_like(self.b0)))\n",
    "        \n",
    "        return torch.cat([mean, variance], -1)"
   ]
  },
  {
   "cell_type": "code",
   "execution_count": 4,
   "metadata": {},
   "outputs": [],
   "source": [
    "class PositionalEncoding(nn.Module):\n",
    "    def __init__(self, d_model, max_len=5000):\n",
    "        super(PositionalEncoding, self).__init__()\n",
    "        pe = torch.zeros(max_len, d_model)\n",
    "        position = torch.arange(0, max_len, dtype=torch.float).unsqueeze(1)\n",
    "        div_term = torch.exp(torch.arange(0, d_model, 2).float() * (-math.log(10000.0) / d_model))\n",
    "        pe[:, 0::2] = torch.sin(position * div_term)\n",
    "        pe[:, 1::2] = torch.cos(position * div_term)\n",
    "        pe = pe.unsqueeze(0).transpose(0, 1)\n",
    "        self.register_buffer('pe', pe)\n",
    "\n",
    "    def forward(self, x):\n",
    "        return self.pe[:x.size(0), :]"
   ]
  },
  {
   "cell_type": "code",
   "execution_count": 13,
   "metadata": {},
   "outputs": [],
   "source": [
    "class Encoding(nn.Module):\n",
    "    def __init__(self, in_features, out_features, max_len=5000):\n",
    "        super(Encoding, self).__init__()\n",
    "        self.time2vec = ProbabilisticSineActivation(in_features, out_features) # Or CosineActivation\n",
    "        self.positional_encoding = PositionalEncoding(out_features, max_len)\n",
    "        \n",
    "    def forward(self, tau):\n",
    "        # Compute Time2Vec embeddings\n",
    "        time_embeddings = self.time2vec(tau)\n",
    "        # Add positional encodings\n",
    "        seq_len = tau.size(1)  # Assuming (seq_len, features) for tau\n",
    "        pos_encodings = self.positional_encoding(time_embeddings).to(tau.device)\n",
    "        return time_embeddings + pos_encodings[:seq_len, :]"
   ]
  },
  {
   "cell_type": "code",
   "execution_count": 14,
   "metadata": {},
   "outputs": [
    {
     "name": "stdout",
     "output_type": "stream",
     "text": [
      "torch.Size([1024, 2])\n",
      "torch.Size([2, 1024, 64])\n"
     ]
    }
   ],
   "source": [
    "# Forward pass through the model\n",
    "feature_tensor = torch.tensor(features_matrix, dtype=torch.float32)\n",
    "\n",
    "print(feature_tensor.shape)\n",
    "# dimensions of the tensor -> 2 for true values and time stamps\n",
    "in_features = features_matrix.shape[-1]\n",
    "# length of embedding vector\n",
    "out_features = 64\n",
    "\n",
    "encoding_model = Encoding(in_features, out_features)\n",
    "\n",
    "# check for NaN values early\n",
    "if torch.isnan(feature_tensor).any():\n",
    "    raise ValueError('NaN values detected in Input')\n",
    "\n",
    "det_embeddings = encoding_model(feature_tensor)\n",
    "\n",
    "# Check for NaN values after computation\n",
    "if torch.isnan(det_embeddings).any():\n",
    "    raise ValueError('NaN values detected in Embeddings')\n",
    "\n",
    "print(det_embeddings.shape)"
   ]
  },
  {
   "cell_type": "code",
   "execution_count": null,
   "metadata": {},
   "outputs": [],
   "source": [
    "class Encoding(nn.Module):\n",
    "    def __init__(self, in_features, out_features, max_len=5000):\n",
    "        super(Encoding, self).__init__()\n",
    "        # Adjustments for out_features to account for separate mean/variance in Probabilistic*Activation\n",
    "        self.time2vec = ProbabilisticSineActivation(in_features, out_features // 2)  # Adjusted for mean and variance\n",
    "        self.positional_encoding = PositionalEncoding(out_features // 2, max_len)  # Adjusted accordingly\n",
    "        \n",
    "    def forward(self, tau):\n",
    "        # Generate embeddings (mean and variance separately)\n",
    "        embeddings = self.time2vec(tau)  # Expecting [2, seq_len, features/2]\n",
    "        \n",
    "        # Apply positional encodings\n",
    "        # Assuming embeddings are already separated into mean and variance\n",
    "        pos_encodings = self.positional_encoding(embeddings[0]).to(tau.device)  # Apply to mean\n",
    "        embeddings[0] += pos_encodings[:tau.size(1), :]\n",
    "        embeddings[1] += pos_encodings[:tau.size(1), :]  # Apply to variance similarly\n",
    "        \n",
    "        # Assuming you handle the third component (e.g., timestamps) separately\n",
    "        # final_embeddings = torch.stack([embeddings[0], embeddings[1], third_component], dim=0)\n",
    "        \n",
    "        return embeddings  # Adjust this based on how you incorporate the third component\n"
   ]
  }
 ],
 "metadata": {
  "kernelspec": {
   "display_name": "Python 3",
   "language": "python",
   "name": "python3"
  },
  "language_info": {
   "codemirror_mode": {
    "name": "ipython",
    "version": 3
   },
   "file_extension": ".py",
   "mimetype": "text/x-python",
   "name": "python",
   "nbconvert_exporter": "python",
   "pygments_lexer": "ipython3",
   "version": "3.11.7"
  }
 },
 "nbformat": 4,
 "nbformat_minor": 2
}
