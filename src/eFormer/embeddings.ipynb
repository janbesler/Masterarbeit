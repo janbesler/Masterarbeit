{
 "cells": [
  {
   "cell_type": "markdown",
   "metadata": {},
   "source": [
    "# Libraries"
   ]
  },
  {
   "cell_type": "code",
   "execution_count": 1,
   "metadata": {},
   "outputs": [],
   "source": [
    "import math\n",
    "\n",
    "# machine learning\n",
    "import torch\n",
    "import torch.nn as nn\n",
    "import torch.nn.functional as F"
   ]
  },
  {
   "cell_type": "markdown",
   "metadata": {},
   "source": [
    "# Probabilistic Embeddings"
   ]
  },
  {
   "cell_type": "code",
   "execution_count": 2,
   "metadata": {},
   "outputs": [],
   "source": [
    "def t2v(\n",
    "    tau, # input tensor\n",
    "    f, # activation function (sin or cosin)\n",
    "    out_features, # size of output vector\n",
    "    w, # weights\n",
    "    b, # biases\n",
    "    w0, # weights for linear part of time2vec layer\n",
    "    b0, # biases for linear part of time2vec layer\n",
    "    arg=None # optional arguments\n",
    "    ):\n",
    "    if arg:\n",
    "        v1 = f(torch.matmul(tau, w) + b, arg)\n",
    "    else:\n",
    "        v1 = f(torch.matmul(tau, w) + b)\n",
    "    v2 = torch.matmul(tau, w0) + b0\n",
    "    \n",
    "    return torch.cat([v1, v2], -1)\n",
    "\n",
    "class ProbabilisticSineActivation(nn.Module):\n",
    "    def __init__(self, in_features, out_features):\n",
    "        super(ProbabilisticSineActivation, self).__init__()\n",
    "        self.out_features = out_features\n",
    "        self.w0 = nn.Parameter(torch.randn(in_features, 1))\n",
    "        self.b0 = nn.Parameter(torch.randn(1))\n",
    "        self.w = nn.Parameter(torch.randn(in_features, self.out_features - 1))\n",
    "        self.b = nn.Parameter(torch.randn(self.out_features - 1))\n",
    "        self.f = torch.sin\n",
    "\n",
    "    def forward(self, tau):\n",
    "        # Calculate mean\n",
    "        mean = t2v(tau, self.f, self.out_features, self.w, self.b, self.w0, self.b0)\n",
    "        \n",
    "        # Calculate variance (use another set of weights and biases, ensure positive variance)\n",
    "        variance = F.softplus(t2v(tau, self.f, self.out_features, \n",
    "                                  torch.randn_like(self.w), torch.randn_like(self.b), \n",
    "                                  torch.randn_like(self.w0), torch.randn_like(self.b0)))\n",
    "        \n",
    "        return torch.cat([mean, variance], -1)\n",
    "\n",
    "class ProbabilisticCosineActivation(nn.Module):\n",
    "    def __init__(self, in_features, out_features):\n",
    "        super(ProbabilisticCosineActivation, self).__init__()\n",
    "        self.out_features = out_features\n",
    "        self.w0 = nn.Parameter(torch.randn(in_features, 1))\n",
    "        self.b0 = nn.Parameter(torch.randn(1))\n",
    "        self.w = nn.Parameter(torch.randn(in_features, self.out_features - 1))\n",
    "        self.b = nn.Parameter(torch.randn(self.out_features - 1))\n",
    "        self.f = torch.cos\n",
    "\n",
    "    def forward(self, tau):\n",
    "        # Calculate mean\n",
    "        mean = t2v(tau, self.f, self.out_features, self.w, self.b, self.w0, self.b0)\n",
    "        \n",
    "        # Calculate variance (use another set of weights and biases, ensure positive variance)\n",
    "        variance = F.softplus(t2v(tau, self.f, self.out_features, \n",
    "                                  torch.randn_like(self.w), torch.randn_like(self.b), \n",
    "                                  torch.randn_like(self.w0), torch.randn_like(self.b0)))\n",
    "        \n",
    "        return torch.cat([mean, variance], -1)"
   ]
  },
  {
   "cell_type": "code",
   "execution_count": 3,
   "metadata": {},
   "outputs": [],
   "source": [
    "class PositionalEncoding(nn.Module):\n",
    "    def __init__(self, d_model, max_len=5000):\n",
    "        super(PositionalEncoding, self).__init__()\n",
    "        pe = torch.zeros(max_len, d_model)\n",
    "        position = torch.arange(0, max_len, dtype=torch.float).unsqueeze(1)\n",
    "        div_term = torch.exp(torch.arange(0, d_model, 2).float() * (-math.log(10000.0) / d_model))\n",
    "        pe[:, 0::2] = torch.sin(position * div_term)\n",
    "        pe[:, 1::2] = torch.cos(position * div_term)\n",
    "        pe = pe.unsqueeze(0)\n",
    "        self.register_buffer('pe', pe)\n",
    "\n",
    "    def forward(self, x):\n",
    "        # x is expected to have shape [batch_size, seq_len, features]\n",
    "        batch_size, seq_len, _ = x.size()\n",
    "        # Expanding to match the batch size of x\n",
    "        pos_encoding = self.pe[:, :seq_len]\n",
    "        \n",
    "        return pos_encoding"
   ]
  },
  {
   "cell_type": "code",
   "execution_count": 4,
   "metadata": {},
   "outputs": [],
   "source": [
    "class Encoding(nn.Module):\n",
    "    def __init__(self, in_features, out_features, max_len=5000):\n",
    "        super(Encoding, self).__init__()\n",
    "        self.out_features = out_features\n",
    "        self.time2vec = ProbabilisticSineActivation(in_features, out_features) # Or CosineActivation\n",
    "        self.positional_encoding = PositionalEncoding(out_features, max_len)\n",
    "        \n",
    "    def forward(self, tau):\n",
    "        # Compute Time2Vec embeddings\n",
    "        embeddings = self.time2vec(tau)\n",
    "\n",
    "        # split embeddings\n",
    "        embedding_mean, _ = torch.split(embeddings, self.out_features, dim=-1)\n",
    "\n",
    "        # Add positional encodings\n",
    "        seq_len = tau.size(1)\n",
    "        pos_encodings = self.positional_encoding(embedding_mean).to(tau.device)\n",
    "        \n",
    "        return embedding_mean + pos_encodings[:seq_len, :]"
   ]
  },
  {
   "cell_type": "code",
   "execution_count": 5,
   "metadata": {},
   "outputs": [],
   "source": [
    "class ProbEncoding(nn.Module):\n",
    "    def __init__(self, in_features, out_features, max_len=5000):\n",
    "        super(ProbEncoding, self).__init__()\n",
    "        self.out_features = out_features\n",
    "        # Adjustments for out_features to account for separate mean/variance in Probabilistic*Activation\n",
    "        self.time2vec = ProbabilisticSineActivation(in_features, out_features)  # Adjusted for mean and variance\n",
    "        self.positional_encoding = PositionalEncoding(out_features, max_len)  # Adjusted accordingly\n",
    "        \n",
    "    def forward(self, tau):\n",
    "        # Generate embeddings (mean and variance separately)\n",
    "        embeddings = self.time2vec(tau)  # Expecting [1, seq_len, features] for embeddings\n",
    "        \n",
    "        # split embeddings\n",
    "        embedding_mean, embedding_var = torch.split(embeddings, self.out_features, dim=-1)\n",
    "        \n",
    "        # Apply positional encodings separately to mean and variance\n",
    "        pos_encoded_mean = self.positional_encoding(embedding_mean).to(tau.device)\n",
    "        pos_encoded_var = self.positional_encoding(embedding_var).to(tau.device)\n",
    "\n",
    "        # Combine mean and variance after applying positional encoding\n",
    "        seq_len = tau.size(1)\n",
    "        combined_embeddings = torch.stack([embedding_mean + pos_encoded_mean[:seq_len, :], embedding_var + pos_encoded_var[:seq_len, :]], dim=0)\n",
    "\n",
    "        return combined_embeddings"
   ]
  },
  {
   "cell_type": "code",
   "execution_count": 6,
   "metadata": {},
   "outputs": [
    {
     "name": "stdout",
     "output_type": "stream",
     "text": [
      "Embedding shape: torch.Size([1, 1024, 64])\n"
     ]
    }
   ],
   "source": [
    "%store -r features_matrix\n",
    "probabilistic_model = False\n",
    "len_embedding_vector = 64\n",
    "\n",
    "# Forward pass through the model\n",
    "feature_tensor = torch.tensor(features_matrix, dtype=torch.float32).unsqueeze(0)\n",
    "# check for NaN values early\n",
    "if torch.isnan(feature_tensor).any():\n",
    "    raise ValueError('NaN values detected in Input')\n",
    "\n",
    "# decide which model to use\n",
    "if probabilistic_model == True:\n",
    "    encoding_model = ProbEncoding(in_features=feature_tensor.shape[-1], out_features=len_embedding_vector)\n",
    "else:\n",
    "    encoding_model = Encoding(in_features=feature_tensor.shape[-1], out_features=len_embedding_vector)\n",
    "\n",
    "# create embeddings\n",
    "embeddings = encoding_model(feature_tensor)\n",
    "\n",
    "# Check for NaN values after computation\n",
    "if torch.isnan(embeddings).any():\n",
    "    raise ValueError('NaN values detected in Embeddings')\n",
    "else:\n",
    "    print(f\"Embedding shape: {embeddings.shape}\")"
   ]
  }
 ],
 "metadata": {
  "kernelspec": {
   "display_name": "Python 3",
   "language": "python",
   "name": "python3"
  },
  "language_info": {
   "codemirror_mode": {
    "name": "ipython",
    "version": 3
   },
   "file_extension": ".py",
   "mimetype": "text/x-python",
   "name": "python",
   "nbconvert_exporter": "python",
   "pygments_lexer": "ipython3",
   "version": "3.11.7"
  }
 },
 "nbformat": 4,
 "nbformat_minor": 2
}
