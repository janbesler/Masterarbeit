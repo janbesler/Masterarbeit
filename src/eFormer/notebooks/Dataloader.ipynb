{
 "cells": [
  {
   "cell_type": "markdown",
   "metadata": {},
   "source": [
    "# Libraries"
   ]
  },
  {
   "cell_type": "code",
   "execution_count": 2,
   "metadata": {},
   "outputs": [],
   "source": [
    "# Standard\n",
    "import pandas as pd\n",
    "\n",
    "# Machine Learning\n",
    "import torch\n",
    "from torch.utils.data import Dataset, DataLoader\n",
    "from sklearn.model_selection import train_test_split\n",
    "\n",
    "%store -r Kelmarsh_df Penmanshiel_df"
   ]
  },
  {
   "cell_type": "markdown",
   "metadata": {},
   "source": [
    "# Training Data Set"
   ]
  },
  {
   "cell_type": "code",
   "execution_count": 28,
   "metadata": {},
   "outputs": [],
   "source": [
    "class TimeSeriesDataProcessor:\n",
    "    def __init__(self, dataframe, forecast, look_back, batch_size=64, train_size=0.7, test_size=0.5, random_state=42):\n",
    "        self.dataframe = dataframe\n",
    "        self.forecast = forecast\n",
    "        self.look_back = look_back\n",
    "        self.batch_size = batch_size\n",
    "        self.train_size = train_size\n",
    "        self.test_size = test_size\n",
    "        self.random_state = random_state\n",
    "\n",
    "    def shifted_data(self):\n",
    "        data = self.dataframe\n",
    "        forecast = self.forecast\n",
    "        look_back = self.look_back\n",
    "        shifts = range(forecast, look_back + forecast)\n",
    "        variables = data.columns\n",
    "        \n",
    "        print(f\"data columns: \\n {data.columns}\")\n",
    "        print(f\"data shape: {data.shape}\")\n",
    "\n",
    "        shifted_columns = []\n",
    "        for column in variables:\n",
    "            for i in shifts:\n",
    "                shifted_df = data[[column]].shift(i)\n",
    "                shifted_df.rename(columns={column: f\"{column} (lag {i})\"}, inplace=True)\n",
    "                shifted_columns.append(shifted_df)\n",
    "        \n",
    "        data_shifted = pd.concat([data] + shifted_columns, axis=1)\n",
    "        data_shifted.dropna(inplace=True)\n",
    "        \n",
    "        return data_shifted\n",
    "\n",
    "    def prepare_datasets(self):\n",
    "        try:\n",
    "            s_df = self.shifted_data().drop(['Wind speed (m/s)'], axis=1)\n",
    "        except KeyError:\n",
    "            s_df = self.shifted_data().copy()\n",
    "\n",
    "        print(f\"shifted data frame: {s_df.shape}\")\n",
    "        print(f\"shifted df columns: \\n {s_df.columns}\")\n",
    "\n",
    "        # Splitting dataset\n",
    "        df_train, df_rem = train_test_split(s_df, train_size=self.train_size, random_state=self.random_state)\n",
    "        df_eval, df_test = train_test_split(df_rem, test_size=self.test_size, random_state=self.random_state)\n",
    "\n",
    "        # Wrapping datasets\n",
    "        self.train_dataset = TimeSeriesDataset(df_train)\n",
    "        self.test_dataset = TimeSeriesDataset(df_test)\n",
    "        self.eval_dataset = TimeSeriesDataset(df_eval)\n",
    "\n",
    "    def create_dataloaders(self):\n",
    "        self.prepare_datasets()\n",
    "\n",
    "        self.train_loader = DataLoader(self.train_dataset, batch_size=self.batch_size, shuffle=True)\n",
    "        self.test_loader = DataLoader(self.test_dataset, batch_size=self.batch_size, shuffle=False)\n",
    "        self.eval_loader = DataLoader(self.eval_dataset, batch_size=self.batch_size, shuffle=False)\n",
    "\n",
    "        return self.train_loader, self.test_loader, self.eval_loader\n",
    "\n",
    "class TimeSeriesDataset(Dataset):\n",
    "    def __init__(self, dataframe):\n",
    "        self.labels = dataframe.iloc[:, 0].values\n",
    "        self.features = dataframe.iloc[:, 1:].values\n",
    "\n",
    "    def __len__(self):\n",
    "        return len(self.labels)\n",
    "\n",
    "    def __getitem__(self, idx):\n",
    "        features = torch.tensor(self.features[idx], dtype=torch.float)\n",
    "        labels = torch.tensor(self.labels[idx], dtype=torch.float)\n",
    "        return features, labels"
   ]
  },
  {
   "cell_type": "code",
   "execution_count": 25,
   "metadata": {},
   "outputs": [
    {
     "name": "stdout",
     "output_type": "stream",
     "text": [
      " data columns Index(['Wind speed (m/s)', 'Energy Export (kWh)'], dtype='object')\n"
     ]
    },
    {
     "data": {
      "text/html": [
       "<div>\n",
       "<style scoped>\n",
       "    .dataframe tbody tr th:only-of-type {\n",
       "        vertical-align: middle;\n",
       "    }\n",
       "\n",
       "    .dataframe tbody tr th {\n",
       "        vertical-align: top;\n",
       "    }\n",
       "\n",
       "    .dataframe thead th {\n",
       "        text-align: right;\n",
       "    }\n",
       "</style>\n",
       "<table border=\"1\" class=\"dataframe\">\n",
       "  <thead>\n",
       "    <tr style=\"text-align: right;\">\n",
       "      <th></th>\n",
       "      <th>Wind speed (m/s)</th>\n",
       "      <th>Energy Export (kWh)</th>\n",
       "    </tr>\n",
       "  </thead>\n",
       "  <tbody>\n",
       "    <tr>\n",
       "      <th>2021-06-02 13:20:00</th>\n",
       "      <td>5.447385</td>\n",
       "      <td>51.0</td>\n",
       "    </tr>\n",
       "    <tr>\n",
       "      <th>2021-06-02 13:30:00</th>\n",
       "      <td>5.426735</td>\n",
       "      <td>73.0</td>\n",
       "    </tr>\n",
       "    <tr>\n",
       "      <th>2021-06-02 13:40:00</th>\n",
       "      <td>5.114700</td>\n",
       "      <td>41.0</td>\n",
       "    </tr>\n",
       "    <tr>\n",
       "      <th>2021-06-02 13:50:00</th>\n",
       "      <td>5.327649</td>\n",
       "      <td>54.0</td>\n",
       "    </tr>\n",
       "    <tr>\n",
       "      <th>2021-06-02 14:00:00</th>\n",
       "      <td>6.526953</td>\n",
       "      <td>110.0</td>\n",
       "    </tr>\n",
       "  </tbody>\n",
       "</table>\n",
       "</div>"
      ],
      "text/plain": [
       "                     Wind speed (m/s)  Energy Export (kWh)\n",
       "2021-06-02 13:20:00          5.447385                 51.0\n",
       "2021-06-02 13:30:00          5.426735                 73.0\n",
       "2021-06-02 13:40:00          5.114700                 41.0\n",
       "2021-06-02 13:50:00          5.327649                 54.0\n",
       "2021-06-02 14:00:00          6.526953                110.0"
      ]
     },
     "execution_count": 25,
     "metadata": {},
     "output_type": "execute_result"
    }
   ],
   "source": [
    "data = Kelmarsh_df['1'][-4096:]\n",
    "data = data.set_index('# Date and time')\n",
    "data.index.names = [None]\n",
    "data = data.drop(['Long Term Wind (m/s)'], axis=1)\n",
    "\n",
    "print(f\" data columns {data.columns}\")\n",
    "data.head()"
   ]
  },
  {
   "cell_type": "code",
   "execution_count": 29,
   "metadata": {},
   "outputs": [
    {
     "name": "stdout",
     "output_type": "stream",
     "text": [
      "data columns: \n",
      " Index(['Wind speed (m/s)', 'Energy Export (kWh)'], dtype='object')\n",
      "data shape: (4096, 2)\n",
      "shifted data frame: (3878, 145)\n",
      "shifted df columns: \n",
      " Index(['Energy Export (kWh)', 'Wind speed (m/s) (lag 1)',\n",
      "       'Wind speed (m/s) (lag 2)', 'Wind speed (m/s) (lag 3)',\n",
      "       'Wind speed (m/s) (lag 4)', 'Wind speed (m/s) (lag 5)',\n",
      "       'Wind speed (m/s) (lag 6)', 'Wind speed (m/s) (lag 7)',\n",
      "       'Wind speed (m/s) (lag 8)', 'Wind speed (m/s) (lag 9)',\n",
      "       ...\n",
      "       'Energy Export (kWh) (lag 63)', 'Energy Export (kWh) (lag 64)',\n",
      "       'Energy Export (kWh) (lag 65)', 'Energy Export (kWh) (lag 66)',\n",
      "       'Energy Export (kWh) (lag 67)', 'Energy Export (kWh) (lag 68)',\n",
      "       'Energy Export (kWh) (lag 69)', 'Energy Export (kWh) (lag 70)',\n",
      "       'Energy Export (kWh) (lag 71)', 'Energy Export (kWh) (lag 72)'],\n",
      "      dtype='object', length=145)\n"
     ]
    }
   ],
   "source": [
    "\n",
    "processor = TimeSeriesDataProcessor(dataframe=data, forecast=1, look_back=72, batch_size=64)\n",
    "train_loader, test_loader, eval_loader = processor.create_dataloaders()"
   ]
  }
 ],
 "metadata": {
  "kernelspec": {
   "display_name": "Python 3",
   "language": "python",
   "name": "python3"
  },
  "language_info": {
   "codemirror_mode": {
    "name": "ipython",
    "version": 3
   },
   "file_extension": ".py",
   "mimetype": "text/x-python",
   "name": "python",
   "nbconvert_exporter": "python",
   "pygments_lexer": "ipython3",
   "version": "3.11.7"
  }
 },
 "nbformat": 4,
 "nbformat_minor": 2
}
