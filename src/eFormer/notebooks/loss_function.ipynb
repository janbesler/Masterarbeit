{
 "cells": [
  {
   "cell_type": "markdown",
   "metadata": {},
   "source": [
    "# Libraries"
   ]
  },
  {
   "cell_type": "code",
   "execution_count": 3,
   "metadata": {},
   "outputs": [],
   "source": [
    "# general\n",
    "import pandas as pd\n",
    "import numpy as np\n",
    "\n",
    "# Machine Learning\n",
    "import torch\n",
    "import torch.nn as nn\n",
    "import torch.nn.functional as F\n",
    "\n",
    "%store -r predictions labels crps_weights"
   ]
  },
  {
   "cell_type": "markdown",
   "metadata": {},
   "source": [
    "# CRPS\n",
    "\n",
    "continouos ranked probability score"
   ]
  },
  {
   "cell_type": "code",
   "execution_count": 4,
   "metadata": {},
   "outputs": [],
   "source": [
    "def crps(forecast, observations, weights):\n",
    "    \"\"\"\n",
    "    Args:\n",
    "    forecast (torch.Tensor): Forecasts from the model (ensemble) with shape [1, seq_len].\n",
    "    observations (torch.Tensor): Observed values with shape [seq_len].\n",
    "    weights (torch.Tensor): Corresponding weights for the CRPS scores, derived from sparse attention, with shape [1, seq_len, seq_len].\n",
    "\n",
    "    Returns:\n",
    "    float: Weighted mean of the CRPS for all forecasts.\n",
    "    \"\"\"\n",
    "    forecast = forecast.squeeze(0)  # Adjusting forecast shape: [64]\n",
    "    weights = weights.mean(dim=-1).squeeze(0)  # Assuming averaging is the method to obtain weights: [64]\n",
    "    \n",
    "    # Sorting the forecasts\n",
    "    sorted_forecast, _ = torch.sort(forecast, dim=0)\n",
    "    observations = observations.unsqueeze(0)  # [1, 64] for broadcasting\n",
    "\n",
    "    # Cumulative sum of sorted forecasts\n",
    "    cumsum_forecast = torch.cumsum(sorted_forecast, dim=0) / forecast.size(0)\n",
    "\n",
    "    # Calculating CRPS\n",
    "    indicator = (sorted_forecast > observations).float()\n",
    "    differences = (cumsum_forecast - indicator) ** 2\n",
    "    weighted_differences = differences * weights  # Apply weights to the differences\n",
    "    crps = weighted_differences.mean()  # Taking mean across all weighted differences\n",
    "\n",
    "    return crps.item()  # Returning as a Python float"
   ]
  },
  {
   "cell_type": "code",
   "execution_count": 5,
   "metadata": {},
   "outputs": [
    {
     "ename": "RuntimeError",
     "evalue": "The size of tensor a (64) must match the size of tensor b (512) at non-singleton dimension 1",
     "output_type": "error",
     "traceback": [
      "\u001b[0;31m---------------------------------------------------------------------------\u001b[0m",
      "\u001b[0;31mRuntimeError\u001b[0m                              Traceback (most recent call last)",
      "\u001b[1;32m/home/jan/Documents/Masterarbeit/src/eFormer/notebooks/loss_function.ipynb Cell 5\u001b[0m line \u001b[0;36m1\n\u001b[0;32m----> <a href='vscode-notebook-cell:/home/jan/Documents/Masterarbeit/src/eFormer/notebooks/loss_function.ipynb#W4sZmlsZQ%3D%3D?line=0'>1</a>\u001b[0m crps(forecast\u001b[39m=\u001b[39;49mpredictions, observations\u001b[39m=\u001b[39;49mlabels, weights\u001b[39m=\u001b[39;49mcrps_weights)\n",
      "\u001b[1;32m/home/jan/Documents/Masterarbeit/src/eFormer/notebooks/loss_function.ipynb Cell 5\u001b[0m line \u001b[0;36m2\n\u001b[1;32m     <a href='vscode-notebook-cell:/home/jan/Documents/Masterarbeit/src/eFormer/notebooks/loss_function.ipynb#W4sZmlsZQ%3D%3D?line=18'>19</a>\u001b[0m cumsum_forecast \u001b[39m=\u001b[39m torch\u001b[39m.\u001b[39mcumsum(sorted_forecast, dim\u001b[39m=\u001b[39m\u001b[39m0\u001b[39m) \u001b[39m/\u001b[39m forecast\u001b[39m.\u001b[39msize(\u001b[39m0\u001b[39m)\n\u001b[1;32m     <a href='vscode-notebook-cell:/home/jan/Documents/Masterarbeit/src/eFormer/notebooks/loss_function.ipynb#W4sZmlsZQ%3D%3D?line=20'>21</a>\u001b[0m \u001b[39m# Calculating CRPS\u001b[39;00m\n\u001b[0;32m---> <a href='vscode-notebook-cell:/home/jan/Documents/Masterarbeit/src/eFormer/notebooks/loss_function.ipynb#W4sZmlsZQ%3D%3D?line=21'>22</a>\u001b[0m indicator \u001b[39m=\u001b[39m (sorted_forecast \u001b[39m>\u001b[39;49m observations)\u001b[39m.\u001b[39mfloat()\n\u001b[1;32m     <a href='vscode-notebook-cell:/home/jan/Documents/Masterarbeit/src/eFormer/notebooks/loss_function.ipynb#W4sZmlsZQ%3D%3D?line=22'>23</a>\u001b[0m differences \u001b[39m=\u001b[39m (cumsum_forecast \u001b[39m-\u001b[39m indicator) \u001b[39m*\u001b[39m\u001b[39m*\u001b[39m \u001b[39m2\u001b[39m\n\u001b[1;32m     <a href='vscode-notebook-cell:/home/jan/Documents/Masterarbeit/src/eFormer/notebooks/loss_function.ipynb#W4sZmlsZQ%3D%3D?line=23'>24</a>\u001b[0m weighted_differences \u001b[39m=\u001b[39m differences \u001b[39m*\u001b[39m weights  \u001b[39m# Apply weights to the differences\u001b[39;00m\n",
      "\u001b[0;31mRuntimeError\u001b[0m: The size of tensor a (64) must match the size of tensor b (512) at non-singleton dimension 1"
     ]
    }
   ],
   "source": [
    "crps(forecast=predictions, observations=labels, weights=crps_weights)"
   ]
  },
  {
   "cell_type": "code",
   "execution_count": null,
   "metadata": {},
   "outputs": [
    {
     "name": "stdout",
     "output_type": "stream",
     "text": [
      "tensor(31.6295)\n"
     ]
    }
   ],
   "source": [
    "import torch\n",
    "import torch.nn as nn\n",
    "\n",
    "class CRPSLoss(nn.Module):\n",
    "    def __init__(self):\n",
    "        super(CRPSLoss, self).__init__()\n",
    "\n",
    "    def forward(self, pred_params, observations):\n",
    "        \"\"\"\n",
    "        Compute the CRPS loss.\n",
    "        \n",
    "        Args:\n",
    "        - pred_params: Parameters predicted by the model that define the distribution of X. \n",
    "                       This could be the mean and standard deviation if X is assumed to be Gaussian.\n",
    "        - observations: Actual observed values.\n",
    "        \n",
    "        Returns:\n",
    "        - crps_loss: The CRPS loss value.\n",
    "        \"\"\"\n",
    "        # For demonstration, let's assume pred_params represents the mean of X,\n",
    "        # and X follows a Gaussian distribution with a known standard deviation.\n",
    "        mu = pred_params  # Model predictions\n",
    "        sigma = torch.full_like(mu, 1.0)  # Assuming a fixed standard deviation for simplicity\n",
    "        \n",
    "        # First term: E[|X-x|]\n",
    "        # Using a sampled approach or analytic solution if available.\n",
    "        # This is a placeholder for the actual computation.\n",
    "        term1 = torch.abs(mu - observations).mean()\n",
    "\n",
    "        # Second term: 0.5 * E[|X-X*|]\n",
    "        # For a Gaussian distribution, E[|X-X*|] is sqrt(2/pi) * sigma if X ~ N(mu, sigma^2)\n",
    "        term2 = 0.5 * (torch.sqrt(torch.tensor(2 / torch.pi)) * sigma).mean()\n",
    "\n",
    "        # Compute CRPS loss\n",
    "        crps_loss = term1 - term2\n",
    "        return crps_loss\n",
    "\n",
    "# Example usage\n",
    "crps_loss = CRPSLoss()\n",
    "\n",
    "# pred_params should be the predicted parameters of the distribution of X, e.g., mean of a Gaussian.\n",
    "# observations should be the actual observed values.\n",
    "pred_params = torch.randn(10, 1)  # Example predictions\n",
    "observations = torch.randn(10, 1)  # Example observations\n",
    "\n",
    "loss = crps_loss(pred_params, observations)\n",
    "print(loss)\n"
   ]
  },
  {
   "cell_type": "code",
   "execution_count": 8,
   "metadata": {},
   "outputs": [
    {
     "name": "stdout",
     "output_type": "stream",
     "text": [
      "labels: torch.Size([512])\n",
      "predictions: torch.Size([1, 64])\n",
      "weights: torch.Size([1, 64, 64])\n"
     ]
    }
   ],
   "source": [
    "print(f\"labels: {labels.shape}\")\n",
    "print(f\"predictions: {predictions.shape}\")\n",
    "print(f\"weights: {crps_weights.shape}\")"
   ]
  },
  {
   "cell_type": "code",
   "execution_count": null,
   "metadata": {},
   "outputs": [],
   "source": []
  }
 ],
 "metadata": {
  "kernelspec": {
   "display_name": "Python 3",
   "language": "python",
   "name": "python3"
  },
  "language_info": {
   "codemirror_mode": {
    "name": "ipython",
    "version": 3
   },
   "file_extension": ".py",
   "mimetype": "text/x-python",
   "name": "python",
   "nbconvert_exporter": "python",
   "pygments_lexer": "ipython3",
   "version": "3.11.8"
  }
 },
 "nbformat": 4,
 "nbformat_minor": 2
}
