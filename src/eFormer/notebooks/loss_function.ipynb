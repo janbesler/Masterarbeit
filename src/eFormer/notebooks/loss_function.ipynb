{
 "cells": [
  {
   "cell_type": "markdown",
   "metadata": {},
   "source": [
    "# Libraries"
   ]
  },
  {
   "cell_type": "code",
   "execution_count": 5,
   "metadata": {},
   "outputs": [],
   "source": [
    "# general\n",
    "import pandas as pd\n",
    "import numpy as np\n",
    "\n",
    "# Machine Learning\n",
    "import torch\n",
    "import torch.nn as nn\n",
    "import torch.nn.functional as F\n",
    "\n",
    "%store -r predictions labels crps_weights"
   ]
  },
  {
   "cell_type": "markdown",
   "metadata": {},
   "source": [
    "# CRPS\n",
    "\n",
    "continouos ranked probability score"
   ]
  },
  {
   "cell_type": "code",
   "execution_count": 24,
   "metadata": {},
   "outputs": [],
   "source": [
    "def crps(forecast, observations, weights):\n",
    "    \"\"\"\n",
    "    Args:\n",
    "    forecast (torch.Tensor): Forecasts from the model (ensemble) with shape [1, seq_len].\n",
    "    observations (torch.Tensor): Observed values with shape [seq_len].\n",
    "    weights (torch.Tensor): Corresponding weights for the CRPS scores, derived from sparse attention, with shape [1, seq_len, seq_len].\n",
    "\n",
    "    Returns:\n",
    "    float: Weighted mean of the CRPS for all forecasts.\n",
    "    \"\"\"\n",
    "    forecast = forecast.squeeze(0)  # Adjusting forecast shape: [64]\n",
    "    weights = weights.mean(dim=-1).squeeze(0)  # Assuming averaging is the method to obtain weights: [64]\n",
    "    \n",
    "    # Sorting the forecasts\n",
    "    sorted_forecast, _ = torch.sort(forecast, dim=0)\n",
    "    observations = observations.unsqueeze(0)  # [1, 64] for broadcasting\n",
    "\n",
    "    # Cumulative sum of sorted forecasts\n",
    "    cumsum_forecast = torch.cumsum(sorted_forecast, dim=0) / forecast.size(0)\n",
    "\n",
    "    # Calculating CRPS\n",
    "    indicator = (sorted_forecast > observations).float()\n",
    "    differences = (cumsum_forecast - indicator) ** 2\n",
    "    weighted_differences = differences * weights  # Apply weights to the differences\n",
    "    crps = weighted_differences.mean()  # Taking mean across all weighted differences\n",
    "\n",
    "    return crps.item()  # Returning as a Python float"
   ]
  },
  {
   "cell_type": "code",
   "execution_count": 25,
   "metadata": {},
   "outputs": [
    {
     "data": {
      "text/plain": [
       "1.523863812913362e-10"
      ]
     },
     "execution_count": 25,
     "metadata": {},
     "output_type": "execute_result"
    }
   ],
   "source": [
    "crps(forecast=predictions, observations=labels, weights=crps_weights)"
   ]
  }
 ],
 "metadata": {
  "kernelspec": {
   "display_name": "Python 3",
   "language": "python",
   "name": "python3"
  },
  "language_info": {
   "codemirror_mode": {
    "name": "ipython",
    "version": 3
   },
   "file_extension": ".py",
   "mimetype": "text/x-python",
   "name": "python",
   "nbconvert_exporter": "python",
   "pygments_lexer": "ipython3",
   "version": "3.11.7"
  }
 },
 "nbformat": 4,
 "nbformat_minor": 2
}
