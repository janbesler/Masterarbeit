{
 "cells": [
  {
   "cell_type": "markdown",
   "metadata": {},
   "source": [
    "# Libraries\n"
   ]
  },
  {
   "cell_type": "code",
   "execution_count": 30,
   "metadata": {},
   "outputs": [
    {
     "ename": "SyntaxError",
     "evalue": "non-default argument follows default argument (sparse_attention_2.py, line 172)",
     "output_type": "error",
     "traceback": [
      "Traceback \u001b[0;36m(most recent call last)\u001b[0m:\n",
      "\u001b[0m  File \u001b[1;32m~/.var/app/com.vscodium.codium/data/python/lib/python3.11/site-packages/IPython/core/interactiveshell.py:3526\u001b[0m in \u001b[1;35mrun_code\u001b[0m\n    exec(code_obj, self.user_global_ns, self.user_ns)\u001b[0m\n",
      "\u001b[0;36m  Cell \u001b[0;32mIn[30], line 18\u001b[0;36m\n\u001b[0;31m    from sparse_attention_2 import DetSparseAttentionModule\u001b[0;36m\n",
      "\u001b[0;36m  File \u001b[0;32m~/Documents/Masterarbeit/src/eFormer/notebooks/../sparse_attention_2.py:172\u001b[0;36m\u001b[0m\n\u001b[0;31m    def __init__(self, d_model, n_heads, prob_sparse_factor=5, attention_dropout=0.1, seq_len):\u001b[0m\n\u001b[0m                                                                                      ^\u001b[0m\n\u001b[0;31mSyntaxError\u001b[0m\u001b[0;31m:\u001b[0m non-default argument follows default argument\n"
     ]
    }
   ],
   "source": [
    "# standard\n",
    "import pandas as pd\n",
    "import numpy as np\n",
    "import math\n",
    "from math import sqrt\n",
    "\n",
    "# machine learning\n",
    "import torch\n",
    "import torch.nn as nn\n",
    "import torch.nn.functional as F\n",
    "\n",
    "import sys\n",
    "import os\n",
    "sys.path.append('..')\n",
    "\n",
    "\n",
    "from embeddings_2 import PositionalEncoding\n",
    "from sparse_attention_2 import DetSparseAttentionModule"
   ]
  },
  {
   "cell_type": "markdown",
   "metadata": {},
   "source": [
    "# Sparse Decoder"
   ]
  },
  {
   "cell_type": "code",
   "execution_count": 27,
   "metadata": {},
   "outputs": [],
   "source": [
    "class SparseDecoder(nn.Module):\n",
    "    def __init__(self, d_model, n_heads, encoder_output_dim, forecast_horizon=1, max_len=5000, d_ff=None, dropout=0.1, activation=\"relu\"):\n",
    "        super(SparseDecoder, self).__init__()\n",
    "        self.d_model = encoder_output_dim[-1]\n",
    "        self.n_heads = n_heads\n",
    "        self.forecast_horizon = forecast_horizon\n",
    "        d_ff = d_ff or 4*self.d_model\n",
    "        self.dropout = nn.Dropout(dropout)\n",
    "        self.activation = F.relu if activation == \"relu\" else F.gelu\n",
    "\n",
    "        # Initialize PositionalEncoding\n",
    "        self.pos_encoder = PositionalEncoding(self.d_model, max_len)\n",
    "\n",
    "        # Sparse Attention Module for cross attention\n",
    "        self.cross_attention = DetSparseAttentionModule(\n",
    "            d_model=encoder_output_dim[-1],\n",
    "            n_heads=n_heads_global,\n",
    "            prob_sparse_factor=5,\n",
    "            seq_len=encoder_output_dim[1]\n",
    "            )\n",
    "\n",
    "        # Feed-forward network components\n",
    "        self.conv1 = nn.Conv1d(in_channels=self.d_model, out_channels=d_ff, kernel_size=1)\n",
    "        self.conv2 = nn.Conv1d(in_channels=d_ff, out_channels=self.d_model, kernel_size=1)\n",
    "        \n",
    "        # Normalization layers\n",
    "        self.norm1 = nn.LayerNorm(self.d_model)\n",
    "        self.norm2 = nn.LayerNorm(self.d_model)\n",
    "\n",
    "        # Output layer\n",
    "        self.output_layer = nn.Linear(self.d_model, 1)\n",
    "\n",
    "    def forward(self, encoder_output, attn_mask=None):\n",
    "        # Generate positional encodings\n",
    "        dummy_input = torch.zeros(self.forecast_horizon, self.d_model)#.unsqueeze(0)\n",
    "        pos_encodings = self.pos_encoder(dummy_input)\n",
    "\n",
    "        # Apply encoder-decoder attention using positional encodings as queries and encoder outputs as keys and values\n",
    "        attn_output = self.cross_attention(pos_encodings, encoder_output, encoder_output, attn_mask)\n",
    "        attn_output = self.norm1(attn_output + self.dropout(attn_output))\n",
    "\n",
    "        # Feed-forward network\n",
    "        ff_output = attn_output.transpose(-1, 1)  # Prepare for conv1d\n",
    "        ff_output = self.dropout(self.activation(self.conv1(ff_output)))\n",
    "        ff_output = self.dropout(self.conv2(ff_output))\n",
    "        ff_output = ff_output.transpose(-1, 1)  # Back to original dims\n",
    "        ff_output = self.norm2(attn_output + self.dropout(ff_output))\n",
    "\n",
    "        # Generate forecasts based on the attention output\n",
    "        forecasts = self.output_layer(ff_output).squeeze(-1)\n",
    "        \n",
    "        return forecasts"
   ]
  },
  {
   "cell_type": "code",
   "execution_count": 16,
   "metadata": {},
   "outputs": [],
   "source": [
    "class DetSparseDecoder(nn.Module):\n",
    "    def __init__(self, d_model, n_heads, encoder_output_dim, forecast_horizon=1, max_len=5000, d_ff=None, dropout=0.1, activation=\"relu\"):\n",
    "        super(DetSparseDecoder, self).__init__()\n",
    "        self.SparseDecoder = SparseDecoder(\n",
    "            encoder_output_dim=encoder_output_dim,\n",
    "            forecast_horizon=1,\n",
    "            d_model=d_model,\n",
    "            n_heads=n_heads\n",
    "        )\n",
    "\n",
    "    def forward(self, encoder_output):\n",
    "        # calculate attention\n",
    "        attention_output = self.SparseDecoder(encoder_output)\n",
    "\n",
    "        return attention_output"
   ]
  },
  {
   "cell_type": "code",
   "execution_count": 17,
   "metadata": {},
   "outputs": [],
   "source": [
    "class ProbSparseDecoder(nn.Module):\n",
    "    def __init__(self, d_model, n_heads, encoder_output_dim, forecast_horizon=1, max_len=5000, d_ff=None, dropout=0.1, activation=\"relu\"):\n",
    "        super(ProbSparseDecoder, self).__init__()\n",
    "        self.SparseDecoder_mean = SparseDecoder(\n",
    "            encoder_output_dim=encoder_output_dim,\n",
    "            forecast_horizon=1,\n",
    "            d_model=d_model,\n",
    "            n_heads=n_heads\n",
    "        )\n",
    "        self.SparseDecoder_var = SparseDecoder(\n",
    "            encoder_output_dim=encoder_output_dim,\n",
    "            forecast_horizon=1,\n",
    "            d_model=d_model,\n",
    "            n_heads=n_heads\n",
    "        )\n",
    "\n",
    "    def forward(self, encoder_output):\n",
    "        # split tensor to extract mean and variance\n",
    "        output_mean = encoder_output[0]\n",
    "        output_variance = encoder_output[1]\n",
    "        \n",
    "        # calculate attention\n",
    "        attention_output_mean = self.SparseDecoder_mean(output_mean)\n",
    "        attention_output_var = self.SparseDecoder_var(output_variance)\n",
    "\n",
    "        # Combine the processed means and variances\n",
    "        combined_output = torch.stack([attention_output_mean, attention_output_var], dim=0)\n",
    "\n",
    "        return combined_output"
   ]
  },
  {
   "cell_type": "code",
   "execution_count": 28,
   "metadata": {},
   "outputs": [
    {
     "ename": "TypeError",
     "evalue": "DetSparseAttentionModule.__init__() got an unexpected keyword argument 'seq_len'",
     "output_type": "error",
     "traceback": [
      "\u001b[0;31m---------------------------------------------------------------------------\u001b[0m",
      "\u001b[0;31mTypeError\u001b[0m                                 Traceback (most recent call last)",
      "\u001b[1;32m/home/jan/Documents/Masterarbeit/src/eFormer/notebooks/sparse_decoder.ipynb Cell 7\u001b[0m line \u001b[0;36m1\n\u001b[1;32m      <a href='vscode-notebook-cell:/home/jan/Documents/Masterarbeit/src/eFormer/notebooks/sparse_decoder.ipynb#W6sZmlsZQ%3D%3D?line=6'>7</a>\u001b[0m     model \u001b[39m=\u001b[39m ProbSparseDecoder(\n\u001b[1;32m      <a href='vscode-notebook-cell:/home/jan/Documents/Masterarbeit/src/eFormer/notebooks/sparse_decoder.ipynb#W6sZmlsZQ%3D%3D?line=7'>8</a>\u001b[0m         d_model \u001b[39m=\u001b[39m output\u001b[39m.\u001b[39mshape[\u001b[39m-\u001b[39m\u001b[39m1\u001b[39m],\n\u001b[1;32m      <a href='vscode-notebook-cell:/home/jan/Documents/Masterarbeit/src/eFormer/notebooks/sparse_decoder.ipynb#W6sZmlsZQ%3D%3D?line=8'>9</a>\u001b[0m         n_heads \u001b[39m=\u001b[39m n_heads_global,\n\u001b[1;32m     <a href='vscode-notebook-cell:/home/jan/Documents/Masterarbeit/src/eFormer/notebooks/sparse_decoder.ipynb#W6sZmlsZQ%3D%3D?line=9'>10</a>\u001b[0m         forecast_horizon \u001b[39m=\u001b[39m \u001b[39m1\u001b[39m,\n\u001b[1;32m     <a href='vscode-notebook-cell:/home/jan/Documents/Masterarbeit/src/eFormer/notebooks/sparse_decoder.ipynb#W6sZmlsZQ%3D%3D?line=10'>11</a>\u001b[0m         encoder_output_dim \u001b[39m=\u001b[39m output[\u001b[39m0\u001b[39m]\u001b[39m.\u001b[39mshape\n\u001b[1;32m     <a href='vscode-notebook-cell:/home/jan/Documents/Masterarbeit/src/eFormer/notebooks/sparse_decoder.ipynb#W6sZmlsZQ%3D%3D?line=11'>12</a>\u001b[0m     )\n\u001b[1;32m     <a href='vscode-notebook-cell:/home/jan/Documents/Masterarbeit/src/eFormer/notebooks/sparse_decoder.ipynb#W6sZmlsZQ%3D%3D?line=12'>13</a>\u001b[0m \u001b[39melse\u001b[39;00m:\n\u001b[0;32m---> <a href='vscode-notebook-cell:/home/jan/Documents/Masterarbeit/src/eFormer/notebooks/sparse_decoder.ipynb#W6sZmlsZQ%3D%3D?line=13'>14</a>\u001b[0m     model \u001b[39m=\u001b[39m DetSparseDecoder(\n\u001b[1;32m     <a href='vscode-notebook-cell:/home/jan/Documents/Masterarbeit/src/eFormer/notebooks/sparse_decoder.ipynb#W6sZmlsZQ%3D%3D?line=14'>15</a>\u001b[0m         d_model \u001b[39m=\u001b[39;49m output\u001b[39m.\u001b[39;49msize(\u001b[39m-\u001b[39;49m\u001b[39m1\u001b[39;49m),\n\u001b[1;32m     <a href='vscode-notebook-cell:/home/jan/Documents/Masterarbeit/src/eFormer/notebooks/sparse_decoder.ipynb#W6sZmlsZQ%3D%3D?line=15'>16</a>\u001b[0m         n_heads \u001b[39m=\u001b[39;49m n_heads_global,\n\u001b[1;32m     <a href='vscode-notebook-cell:/home/jan/Documents/Masterarbeit/src/eFormer/notebooks/sparse_decoder.ipynb#W6sZmlsZQ%3D%3D?line=16'>17</a>\u001b[0m         forecast_horizon \u001b[39m=\u001b[39;49m \u001b[39m1\u001b[39;49m,\n\u001b[1;32m     <a href='vscode-notebook-cell:/home/jan/Documents/Masterarbeit/src/eFormer/notebooks/sparse_decoder.ipynb#W6sZmlsZQ%3D%3D?line=17'>18</a>\u001b[0m         encoder_output_dim \u001b[39m=\u001b[39;49m output\u001b[39m.\u001b[39;49msize()\n\u001b[1;32m     <a href='vscode-notebook-cell:/home/jan/Documents/Masterarbeit/src/eFormer/notebooks/sparse_decoder.ipynb#W6sZmlsZQ%3D%3D?line=18'>19</a>\u001b[0m     )\n\u001b[1;32m     <a href='vscode-notebook-cell:/home/jan/Documents/Masterarbeit/src/eFormer/notebooks/sparse_decoder.ipynb#W6sZmlsZQ%3D%3D?line=20'>21</a>\u001b[0m model(output)\n",
      "\u001b[1;32m/home/jan/Documents/Masterarbeit/src/eFormer/notebooks/sparse_decoder.ipynb Cell 7\u001b[0m line \u001b[0;36m4\n\u001b[1;32m      <a href='vscode-notebook-cell:/home/jan/Documents/Masterarbeit/src/eFormer/notebooks/sparse_decoder.ipynb#W6sZmlsZQ%3D%3D?line=1'>2</a>\u001b[0m \u001b[39mdef\u001b[39;00m \u001b[39m__init__\u001b[39m(\u001b[39mself\u001b[39m, d_model, n_heads, encoder_output_dim, forecast_horizon\u001b[39m=\u001b[39m\u001b[39m1\u001b[39m, max_len\u001b[39m=\u001b[39m\u001b[39m5000\u001b[39m, d_ff\u001b[39m=\u001b[39m\u001b[39mNone\u001b[39;00m, dropout\u001b[39m=\u001b[39m\u001b[39m0.1\u001b[39m, activation\u001b[39m=\u001b[39m\u001b[39m\"\u001b[39m\u001b[39mrelu\u001b[39m\u001b[39m\"\u001b[39m):\n\u001b[1;32m      <a href='vscode-notebook-cell:/home/jan/Documents/Masterarbeit/src/eFormer/notebooks/sparse_decoder.ipynb#W6sZmlsZQ%3D%3D?line=2'>3</a>\u001b[0m     \u001b[39msuper\u001b[39m(DetSparseDecoder, \u001b[39mself\u001b[39m)\u001b[39m.\u001b[39m\u001b[39m__init__\u001b[39m()\n\u001b[0;32m----> <a href='vscode-notebook-cell:/home/jan/Documents/Masterarbeit/src/eFormer/notebooks/sparse_decoder.ipynb#W6sZmlsZQ%3D%3D?line=3'>4</a>\u001b[0m     \u001b[39mself\u001b[39m\u001b[39m.\u001b[39mSparseDecoder \u001b[39m=\u001b[39m SparseDecoder(\n\u001b[1;32m      <a href='vscode-notebook-cell:/home/jan/Documents/Masterarbeit/src/eFormer/notebooks/sparse_decoder.ipynb#W6sZmlsZQ%3D%3D?line=4'>5</a>\u001b[0m         encoder_output_dim\u001b[39m=\u001b[39;49mencoder_output_dim,\n\u001b[1;32m      <a href='vscode-notebook-cell:/home/jan/Documents/Masterarbeit/src/eFormer/notebooks/sparse_decoder.ipynb#W6sZmlsZQ%3D%3D?line=5'>6</a>\u001b[0m         forecast_horizon\u001b[39m=\u001b[39;49m\u001b[39m1\u001b[39;49m,\n\u001b[1;32m      <a href='vscode-notebook-cell:/home/jan/Documents/Masterarbeit/src/eFormer/notebooks/sparse_decoder.ipynb#W6sZmlsZQ%3D%3D?line=6'>7</a>\u001b[0m         d_model\u001b[39m=\u001b[39;49md_model,\n\u001b[1;32m      <a href='vscode-notebook-cell:/home/jan/Documents/Masterarbeit/src/eFormer/notebooks/sparse_decoder.ipynb#W6sZmlsZQ%3D%3D?line=7'>8</a>\u001b[0m         n_heads\u001b[39m=\u001b[39;49mn_heads\n\u001b[1;32m      <a href='vscode-notebook-cell:/home/jan/Documents/Masterarbeit/src/eFormer/notebooks/sparse_decoder.ipynb#W6sZmlsZQ%3D%3D?line=8'>9</a>\u001b[0m     )\n",
      "\u001b[1;32m/home/jan/Documents/Masterarbeit/src/eFormer/notebooks/sparse_decoder.ipynb Cell 7\u001b[0m line \u001b[0;36m1\n\u001b[1;32m     <a href='vscode-notebook-cell:/home/jan/Documents/Masterarbeit/src/eFormer/notebooks/sparse_decoder.ipynb#W6sZmlsZQ%3D%3D?line=11'>12</a>\u001b[0m \u001b[39mself\u001b[39m\u001b[39m.\u001b[39mpos_encoder \u001b[39m=\u001b[39m PositionalEncoding(\u001b[39mself\u001b[39m\u001b[39m.\u001b[39md_model, max_len)\n\u001b[1;32m     <a href='vscode-notebook-cell:/home/jan/Documents/Masterarbeit/src/eFormer/notebooks/sparse_decoder.ipynb#W6sZmlsZQ%3D%3D?line=13'>14</a>\u001b[0m \u001b[39m# Sparse Attention Module for cross attention\u001b[39;00m\n\u001b[0;32m---> <a href='vscode-notebook-cell:/home/jan/Documents/Masterarbeit/src/eFormer/notebooks/sparse_decoder.ipynb#W6sZmlsZQ%3D%3D?line=14'>15</a>\u001b[0m \u001b[39mself\u001b[39m\u001b[39m.\u001b[39mcross_attention \u001b[39m=\u001b[39m DetSparseAttentionModule(\n\u001b[1;32m     <a href='vscode-notebook-cell:/home/jan/Documents/Masterarbeit/src/eFormer/notebooks/sparse_decoder.ipynb#W6sZmlsZQ%3D%3D?line=15'>16</a>\u001b[0m     d_model\u001b[39m=\u001b[39;49mencoder_output_dim[\u001b[39m-\u001b[39;49m\u001b[39m1\u001b[39;49m],\n\u001b[1;32m     <a href='vscode-notebook-cell:/home/jan/Documents/Masterarbeit/src/eFormer/notebooks/sparse_decoder.ipynb#W6sZmlsZQ%3D%3D?line=16'>17</a>\u001b[0m     n_heads\u001b[39m=\u001b[39;49mn_heads_global,\n\u001b[1;32m     <a href='vscode-notebook-cell:/home/jan/Documents/Masterarbeit/src/eFormer/notebooks/sparse_decoder.ipynb#W6sZmlsZQ%3D%3D?line=17'>18</a>\u001b[0m     prob_sparse_factor\u001b[39m=\u001b[39;49m\u001b[39m5\u001b[39;49m,\n\u001b[1;32m     <a href='vscode-notebook-cell:/home/jan/Documents/Masterarbeit/src/eFormer/notebooks/sparse_decoder.ipynb#W6sZmlsZQ%3D%3D?line=18'>19</a>\u001b[0m     seq_len\u001b[39m=\u001b[39;49mencoder_output_dim[\u001b[39m1\u001b[39;49m]\n\u001b[1;32m     <a href='vscode-notebook-cell:/home/jan/Documents/Masterarbeit/src/eFormer/notebooks/sparse_decoder.ipynb#W6sZmlsZQ%3D%3D?line=19'>20</a>\u001b[0m     )\n\u001b[1;32m     <a href='vscode-notebook-cell:/home/jan/Documents/Masterarbeit/src/eFormer/notebooks/sparse_decoder.ipynb#W6sZmlsZQ%3D%3D?line=21'>22</a>\u001b[0m \u001b[39m# Feed-forward network components\u001b[39;00m\n\u001b[1;32m     <a href='vscode-notebook-cell:/home/jan/Documents/Masterarbeit/src/eFormer/notebooks/sparse_decoder.ipynb#W6sZmlsZQ%3D%3D?line=22'>23</a>\u001b[0m \u001b[39mself\u001b[39m\u001b[39m.\u001b[39mconv1 \u001b[39m=\u001b[39m nn\u001b[39m.\u001b[39mConv1d(in_channels\u001b[39m=\u001b[39m\u001b[39mself\u001b[39m\u001b[39m.\u001b[39md_model, out_channels\u001b[39m=\u001b[39md_ff, kernel_size\u001b[39m=\u001b[39m\u001b[39m1\u001b[39m)\n",
      "\u001b[0;31mTypeError\u001b[0m: DetSparseAttentionModule.__init__() got an unexpected keyword argument 'seq_len'"
     ]
    }
   ],
   "source": [
    "%store -r output\n",
    "n_heads_global = 4\n",
    "probabilistic_model = False\n",
    "\n",
    "# determine which model to use\n",
    "if probabilistic_model == True:\n",
    "    model = ProbSparseDecoder(\n",
    "        d_model = output.shape[-1],\n",
    "        n_heads = n_heads_global,\n",
    "        forecast_horizon = 1,\n",
    "        encoder_output_dim = output[0].shape\n",
    "    )\n",
    "else:\n",
    "    model = DetSparseDecoder(\n",
    "        d_model = output.size(-1),\n",
    "        n_heads = n_heads_global,\n",
    "        forecast_horizon = 1,\n",
    "        encoder_output_dim = output.size()\n",
    "    )\n",
    "\n",
    "model(output)"
   ]
  },
  {
   "cell_type": "code",
   "execution_count": 29,
   "metadata": {},
   "outputs": [
    {
     "data": {
      "text/plain": [
       "144"
      ]
     },
     "execution_count": 29,
     "metadata": {},
     "output_type": "execute_result"
    }
   ],
   "source": [
    "output.size()[1]"
   ]
  }
 ],
 "metadata": {
  "kernelspec": {
   "display_name": "Python 3",
   "language": "python",
   "name": "python3"
  },
  "language_info": {
   "codemirror_mode": {
    "name": "ipython",
    "version": 3
   },
   "file_extension": ".py",
   "mimetype": "text/x-python",
   "name": "python",
   "nbconvert_exporter": "python",
   "pygments_lexer": "ipython3",
   "version": "3.11.8"
  }
 },
 "nbformat": 4,
 "nbformat_minor": 2
}
