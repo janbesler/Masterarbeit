{
 "cells": [
  {
   "cell_type": "markdown",
   "metadata": {},
   "source": [
    "# Libraries\n"
   ]
  },
  {
   "cell_type": "code",
   "execution_count": 2,
   "metadata": {},
   "outputs": [],
   "source": [
    "# standard\n",
    "import pandas as pd\n",
    "import numpy as np\n",
    "import math\n",
    "from math import sqrt\n",
    "\n",
    "# machine learning\n",
    "import torch\n",
    "import torch.nn as nn\n",
    "import torch.nn.functional as F\n",
    "\n",
    "import sys\n",
    "import os\n",
    "sys.path.append('..')\n",
    "\n",
    "\n",
    "from embeddings import PositionalEncoding\n",
    "from sparse_attention import DetSparseAttentionModule"
   ]
  },
  {
   "cell_type": "markdown",
   "metadata": {},
   "source": [
    "# Sparse Decoder"
   ]
  },
  {
   "cell_type": "code",
   "execution_count": 3,
   "metadata": {},
   "outputs": [],
   "source": [
    "class SparseDecoder(nn.Module):\n",
    "    def __init__(self, d_model, n_heads, encoder_output_dim, forecast_horizon=1, max_len=5000, d_ff=None, dropout=0.1, activation=\"relu\"):\n",
    "        super(SparseDecoder, self).__init__()\n",
    "        self.d_model = encoder_output_dim[-1]\n",
    "        self.batch_size = encoder_output_dim[0]\n",
    "        self.n_heads = n_heads\n",
    "        self.forecast_horizon = forecast_horizon\n",
    "        d_ff = d_ff or 4*self.d_model\n",
    "        self.dropout = nn.Dropout(dropout)\n",
    "        self.activation = F.relu if activation == \"relu\" else F.gelu\n",
    "\n",
    "        # Initialize PositionalEncoding\n",
    "        self.pos_encoder = PositionalEncoding(self.batch_size, self.d_model, max_len)\n",
    "\n",
    "        # Sparse Attention Module for cross attention\n",
    "        self.cross_attention = DetSparseAttentionModule(\n",
    "            d_model=self.d_model,\n",
    "            n_heads=self.n_heads,\n",
    "            prob_sparse_factor=5,\n",
    "            seq_len=encoder_output_dim[1]\n",
    "            )\n",
    "\n",
    "        # Feed-forward network components\n",
    "        self.conv1 = nn.Conv1d(in_channels=self.d_model, out_channels=d_ff, kernel_size=1)\n",
    "        self.conv2 = nn.Conv1d(in_channels=d_ff, out_channels=self.d_model, kernel_size=1)\n",
    "        \n",
    "        # Normalization layers\n",
    "        self.norm1 = nn.LayerNorm(self.d_model)\n",
    "        self.norm2 = nn.LayerNorm(self.d_model)\n",
    "\n",
    "        # Output layer\n",
    "        self.output_layer = nn.Linear(self.d_model, 1)\n",
    "\n",
    "    def forward(self, encoder_output, attn_mask=None):\n",
    "        # Generate positional encodings\n",
    "        dummy_input = torch.zeros(self.batch_size, self.forecast_horizon, self.d_model)\n",
    "        pos_encodings = self.pos_encoder(dummy_input)\n",
    "\n",
    "        # Apply encoder-decoder attention using positional encodings as queries and encoder outputs as keys and values\n",
    "        attn_output = self.cross_attention(encoder_output, encoder_output, encoder_output).mean(1)\n",
    "        attn_output = self.norm1(attn_output + self.dropout(attn_output)).unsqueeze(1)\n",
    "\n",
    "        # Feed-forward network\n",
    "        ff_output = attn_output.transpose(-1, 1)  # Prepare for conv1d\n",
    "        ff_output = self.dropout(self.activation(self.conv1(ff_output)))\n",
    "        ff_output = self.dropout(self.conv2(ff_output))\n",
    "        ff_output = ff_output.transpose(-1, 1)  # Back to original dims\n",
    "        ff_output = self.norm2(attn_output + self.dropout(ff_output))\n",
    "\n",
    "        # Generate forecasts based on the attention output\n",
    "        forecasts = self.output_layer(ff_output).squeeze(-1)\n",
    "        \n",
    "        return forecasts"
   ]
  },
  {
   "cell_type": "code",
   "execution_count": null,
   "metadata": {},
   "outputs": [],
   "source": [
    "    # Calculate kernel size and stride\n",
    "    # These calculations are made to dynamically adjust according to the input tensor's dimensions\n",
    "    kernel_size = seq_len // target_dim\n",
    "    stride = kernel_size  # Assuming stride equals kernel size for direct downscaling\n",
    "    \n",
    "    # Pooling operation\n",
    "    # Transpose the tensor to match the expected input shape of avg_pool1d ([batch_size, channels, width])\n",
    "    input_tensor_transposed = input_tensor.transpose(1, 2)  # Now shape [batch_size, channels, seq_len]\n",
    "    \n",
    "    # Apply average pooling\n",
    "    pooled_tensor = F.avg_pool1d(input_tensor_transposed, kernel_size=kernel_size, stride=stride)\n",
    "    \n",
    "    # Transpose back to the original dimension order\n",
    "    output_tensor = pooled_tensor.transpose(1, 2)  # Shape [batch_size, target_dim, channels]"
   ]
  },
  {
   "cell_type": "code",
   "execution_count": 9,
   "metadata": {},
   "outputs": [],
   "source": [
    "class DetSparseDecoder(nn.Module):\n",
    "    def __init__(self, d_model, n_heads, batch_size, seq_len, forecast_horizon, max_len=5000, d_ff=None, dropout=0.1, activation=\"relu\"):\n",
    "        super(DetSparseDecoder, self).__init__()\n",
    "        self.SparseDecoder = SparseDecoder(\n",
    "            encoder_output_dim=[batch_size, seq_len, d_model],\n",
    "            forecast_horizon=forecast_horizon,\n",
    "            d_model=d_model,\n",
    "            n_heads=n_heads\n",
    "        )\n",
    "\n",
    "    def forward(self, encoder_output):\n",
    "        # calculate attention\n",
    "        attention_output = self.SparseDecoder(encoder_output).squeeze(1)\n",
    "\n",
    "        return attention_output"
   ]
  },
  {
   "cell_type": "code",
   "execution_count": 5,
   "metadata": {},
   "outputs": [],
   "source": [
    "class ProbSparseDecoder(nn.Module):\n",
    "    def __init__(self, d_model, n_heads, encoder_output_dim, forecast_horizon, max_len=5000, d_ff=None, dropout=0.1, activation=\"relu\"):\n",
    "        super(ProbSparseDecoder, self).__init__()\n",
    "        self.SparseDecoder_mean = SparseDecoder(\n",
    "            encoder_output_dim=encoder_output_dim,\n",
    "            forecast_horizon=forecast_horizon,\n",
    "            d_model=d_model,\n",
    "            n_heads=n_heads\n",
    "        )\n",
    "        self.SparseDecoder_var = SparseDecoder(\n",
    "            encoder_output_dim=encoder_output_dim,\n",
    "            forecast_horizon=forecast_horizon,\n",
    "            d_model=d_model,\n",
    "            n_heads=n_heads\n",
    "        )\n",
    "\n",
    "    def forward(self, encoder_output):\n",
    "        # split tensor to extract mean and variance\n",
    "        output_mean = encoder_output[0]\n",
    "        output_variance = encoder_output[1]\n",
    "        \n",
    "        # calculate attention\n",
    "        attention_output_mean = self.SparseDecoder_mean(output_mean).squeeze(1)\n",
    "        attention_output_var = self.SparseDecoder_var(output_variance).squeeze(1)\n",
    "\n",
    "        # Combine the processed means and variances\n",
    "        combined_output = torch.stack([attention_output_mean, attention_output_var], dim=0)\n",
    "\n",
    "        return combined_output"
   ]
  },
  {
   "cell_type": "code",
   "execution_count": 10,
   "metadata": {},
   "outputs": [
    {
     "data": {
      "text/plain": [
       "torch.Size([512])"
      ]
     },
     "execution_count": 10,
     "metadata": {},
     "output_type": "execute_result"
    }
   ],
   "source": [
    "%store -r output\n",
    "n_heads_global = 4\n",
    "probabilistic_model = False\n",
    "len_embedding_vector = 64\n",
    "batch_size = 512\n",
    "seq_len = 576\n",
    "\n",
    "# determine which model to use\n",
    "if probabilistic_model == True:\n",
    "    model = ProbSparseDecoder(\n",
    "        d_model = output.shape[-1],\n",
    "        n_heads = n_heads_global,\n",
    "        forecast_horizon = 72\n",
    "    )\n",
    "else:\n",
    "    model = DetSparseDecoder(\n",
    "        d_model = len_embedding_vector,\n",
    "        n_heads = n_heads_global,\n",
    "        forecast_horizon = 72,\n",
    "        batch_size=batch_size,\n",
    "        seq_len=seq_len,\n",
    "    )\n",
    "\n",
    "model(output).shape"
   ]
  }
 ],
 "metadata": {
  "kernelspec": {
   "display_name": "Python 3",
   "language": "python",
   "name": "python3"
  },
  "language_info": {
   "codemirror_mode": {
    "name": "ipython",
    "version": 3
   },
   "file_extension": ".py",
   "mimetype": "text/x-python",
   "name": "python",
   "nbconvert_exporter": "python",
   "pygments_lexer": "ipython3",
   "version": "3.11.8"
  }
 },
 "nbformat": 4,
 "nbformat_minor": 2
}
